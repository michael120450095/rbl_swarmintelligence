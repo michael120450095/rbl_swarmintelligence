{
 "cells": [
  {
   "cell_type": "markdown",
   "id": "f1ee60fb",
   "metadata": {},
   "source": [
    "“PENYELESAIAN PERMASALAHAN BELANJA DENGAN IMPLEMENTASI ALGORITMA ARTIFICIAL BEE COLONY PADA KNAPSACK PROBLEM”  "
   ]
  },
  {
   "cell_type": "raw",
   "id": "2327cb3a",
   "metadata": {},
   "source": [
    "Anggota     : - Michael Abednego\n",
    "              - Dian Maya Sari\n",
    "              - Tamara Dhia'ussururi\n",
    "              - Debora Sebrina Br. Simanjuntak\n",
    "Kelas       : RA\n",
    "Mata Kuliah : Swarm Intelligence"
   ]
  },
  {
   "cell_type": "markdown",
   "id": "63619ac8-cad7-4142-9bac-0f4e39f53db2",
   "metadata": {
    "tags": []
   },
   "source": [
    "# Pengkodean\n",
    "\n",
    "Pengolahan Data ke CSV, Inisialisasi Individu-Populasi & Diskritisasi (Ranking untuk TSP / Sigmoid untuk KP), Inisialisasi Parameter pada metode, Pengkodean tahap awal - generasi pertama' Pengkodean tahap kedua - metode masing masing kelompok , Pengkodean tahap ketiga - analisis dengan grafik dan eksperimen terhadap parameter."
   ]
  },
  {
   "cell_type": "code",
   "execution_count": 1,
   "id": "f664e78b-8462-44ff-b4df-217435ebaafa",
   "metadata": {},
   "outputs": [
    {
     "data": {
      "text/html": [
       "<div>\n",
       "<style scoped>\n",
       "    .dataframe tbody tr th:only-of-type {\n",
       "        vertical-align: middle;\n",
       "    }\n",
       "\n",
       "    .dataframe tbody tr th {\n",
       "        vertical-align: top;\n",
       "    }\n",
       "\n",
       "    .dataframe thead th {\n",
       "        text-align: right;\n",
       "    }\n",
       "</style>\n",
       "<table border=\"1\" class=\"dataframe\">\n",
       "  <thead>\n",
       "    <tr style=\"text-align: right;\">\n",
       "      <th></th>\n",
       "      <th>Kategori</th>\n",
       "      <th>Nama Bahan Pangan</th>\n",
       "      <th>Harga(Rp)</th>\n",
       "      <th>Berat(Kg)</th>\n",
       "      <th>Ketersediaan(Kg)</th>\n",
       "    </tr>\n",
       "  </thead>\n",
       "  <tbody>\n",
       "    <tr>\n",
       "      <th>0</th>\n",
       "      <td>Bahan Pangan</td>\n",
       "      <td>Beras Medium Merk Rojolele</td>\n",
       "      <td>10000</td>\n",
       "      <td>1.000</td>\n",
       "      <td>20.00</td>\n",
       "    </tr>\n",
       "    <tr>\n",
       "      <th>1</th>\n",
       "      <td>Bahan Pangan</td>\n",
       "      <td>Beras Premium Merk Subur Jaya</td>\n",
       "      <td>13000</td>\n",
       "      <td>1.000</td>\n",
       "      <td>8.00</td>\n",
       "    </tr>\n",
       "    <tr>\n",
       "      <th>2</th>\n",
       "      <td>Bahan Pangan</td>\n",
       "      <td>Beras Premium Merk Dua Koki</td>\n",
       "      <td>12200</td>\n",
       "      <td>1.000</td>\n",
       "      <td>12.00</td>\n",
       "    </tr>\n",
       "    <tr>\n",
       "      <th>3</th>\n",
       "      <td>Bahan Pangan</td>\n",
       "      <td>Beras Premium Merk Raja Udang</td>\n",
       "      <td>11800</td>\n",
       "      <td>1.000</td>\n",
       "      <td>10.00</td>\n",
       "    </tr>\n",
       "    <tr>\n",
       "      <th>4</th>\n",
       "      <td>Bahan Pangan</td>\n",
       "      <td>Beras Premium Merk Mawar</td>\n",
       "      <td>11000</td>\n",
       "      <td>1.000</td>\n",
       "      <td>9.00</td>\n",
       "    </tr>\n",
       "    <tr>\n",
       "      <th>5</th>\n",
       "      <td>Bahan Pangan</td>\n",
       "      <td>Gula Pasir</td>\n",
       "      <td>14000</td>\n",
       "      <td>1.000</td>\n",
       "      <td>15.00</td>\n",
       "    </tr>\n",
       "    <tr>\n",
       "      <th>6</th>\n",
       "      <td>Bahan Pangan</td>\n",
       "      <td>Minyak Goreng Curah</td>\n",
       "      <td>10000</td>\n",
       "      <td>1.000</td>\n",
       "      <td>25.00</td>\n",
       "    </tr>\n",
       "    <tr>\n",
       "      <th>7</th>\n",
       "      <td>Bahan Pangan</td>\n",
       "      <td>Minyak Goreng Kemasan Sederhana</td>\n",
       "      <td>11000</td>\n",
       "      <td>1.000</td>\n",
       "      <td>20.00</td>\n",
       "    </tr>\n",
       "    <tr>\n",
       "      <th>8</th>\n",
       "      <td>Bahan Pangan</td>\n",
       "      <td>Minyak Goreng Kemasan Premium</td>\n",
       "      <td>20000</td>\n",
       "      <td>1.000</td>\n",
       "      <td>30.00</td>\n",
       "    </tr>\n",
       "    <tr>\n",
       "      <th>9</th>\n",
       "      <td>Bahan Pangan</td>\n",
       "      <td>Susu Kental Manis</td>\n",
       "      <td>10000</td>\n",
       "      <td>1.000</td>\n",
       "      <td>5.25</td>\n",
       "    </tr>\n",
       "    <tr>\n",
       "      <th>10</th>\n",
       "      <td>Bahan Pangan</td>\n",
       "      <td>Telur Ayam Broiler</td>\n",
       "      <td>20000</td>\n",
       "      <td>1.000</td>\n",
       "      <td>10.00</td>\n",
       "    </tr>\n",
       "    <tr>\n",
       "      <th>11</th>\n",
       "      <td>Bahan Pangan</td>\n",
       "      <td>Telur Ayam Kampung</td>\n",
       "      <td>55000</td>\n",
       "      <td>1.000</td>\n",
       "      <td>7.00</td>\n",
       "    </tr>\n",
       "    <tr>\n",
       "      <th>12</th>\n",
       "      <td>Bahan Pangan</td>\n",
       "      <td>Jagung Pipilan Kering</td>\n",
       "      <td>7000</td>\n",
       "      <td>1.000</td>\n",
       "      <td>10.00</td>\n",
       "    </tr>\n",
       "    <tr>\n",
       "      <th>13</th>\n",
       "      <td>Bahan Pangan</td>\n",
       "      <td>Mie Instan Kari Ayam</td>\n",
       "      <td>2300</td>\n",
       "      <td>0.085</td>\n",
       "      <td>8.50</td>\n",
       "    </tr>\n",
       "    <tr>\n",
       "      <th>14</th>\n",
       "      <td>Bahan Pangan</td>\n",
       "      <td>Tepung Terigu</td>\n",
       "      <td>12000</td>\n",
       "      <td>1.000</td>\n",
       "      <td>8.00</td>\n",
       "    </tr>\n",
       "    <tr>\n",
       "      <th>15</th>\n",
       "      <td>Bahan Pangan</td>\n",
       "      <td>Beras Medium Merk AK</td>\n",
       "      <td>40500</td>\n",
       "      <td>1.000</td>\n",
       "      <td>7.00</td>\n",
       "    </tr>\n",
       "    <tr>\n",
       "      <th>16</th>\n",
       "      <td>Bahan Pangan</td>\n",
       "      <td>Garam Beryodium Halus</td>\n",
       "      <td>4000</td>\n",
       "      <td>0.500</td>\n",
       "      <td>4.00</td>\n",
       "    </tr>\n",
       "    <tr>\n",
       "      <th>17</th>\n",
       "      <td>Daging</td>\n",
       "      <td>Daging Sapi Paha Belakang</td>\n",
       "      <td>120000</td>\n",
       "      <td>1.000</td>\n",
       "      <td>75.00</td>\n",
       "    </tr>\n",
       "    <tr>\n",
       "      <th>18</th>\n",
       "      <td>Daging</td>\n",
       "      <td>Daging Sapi Paha Depan</td>\n",
       "      <td>120000</td>\n",
       "      <td>1.000</td>\n",
       "      <td>75.00</td>\n",
       "    </tr>\n",
       "    <tr>\n",
       "      <th>19</th>\n",
       "      <td>Daging</td>\n",
       "      <td>Daging Sapi Sandung Lamur</td>\n",
       "      <td>65000</td>\n",
       "      <td>1.000</td>\n",
       "      <td>45.00</td>\n",
       "    </tr>\n",
       "    <tr>\n",
       "      <th>20</th>\n",
       "      <td>Daging</td>\n",
       "      <td>Daging Sapi Tetelan</td>\n",
       "      <td>65000</td>\n",
       "      <td>1.000</td>\n",
       "      <td>35.00</td>\n",
       "    </tr>\n",
       "    <tr>\n",
       "      <th>21</th>\n",
       "      <td>Daging</td>\n",
       "      <td>Daging Sapi Has Dalam</td>\n",
       "      <td>120000</td>\n",
       "      <td>1.000</td>\n",
       "      <td>45.00</td>\n",
       "    </tr>\n",
       "    <tr>\n",
       "      <th>22</th>\n",
       "      <td>Daging</td>\n",
       "      <td>Daging Sapi Has Luar</td>\n",
       "      <td>120000</td>\n",
       "      <td>1.000</td>\n",
       "      <td>45.00</td>\n",
       "    </tr>\n",
       "    <tr>\n",
       "      <th>23</th>\n",
       "      <td>Daging</td>\n",
       "      <td>Daging Ayam Broiler</td>\n",
       "      <td>40000</td>\n",
       "      <td>1.000</td>\n",
       "      <td>18.00</td>\n",
       "    </tr>\n",
       "    <tr>\n",
       "      <th>24</th>\n",
       "      <td>Daging</td>\n",
       "      <td>Daging Ayam Kampung</td>\n",
       "      <td>65000</td>\n",
       "      <td>1.000</td>\n",
       "      <td>30.00</td>\n",
       "    </tr>\n",
       "    <tr>\n",
       "      <th>25</th>\n",
       "      <td>Rempah-Rempah</td>\n",
       "      <td>Cabe Merah Keriting</td>\n",
       "      <td>23000</td>\n",
       "      <td>1.000</td>\n",
       "      <td>15.00</td>\n",
       "    </tr>\n",
       "    <tr>\n",
       "      <th>26</th>\n",
       "      <td>Rempah-Rempah</td>\n",
       "      <td>Cabe Merah Besar</td>\n",
       "      <td>22000</td>\n",
       "      <td>1.000</td>\n",
       "      <td>15.00</td>\n",
       "    </tr>\n",
       "    <tr>\n",
       "      <th>27</th>\n",
       "      <td>Rempah-Rempah</td>\n",
       "      <td>Cabe Rawit Hijau</td>\n",
       "      <td>47000</td>\n",
       "      <td>1.000</td>\n",
       "      <td>7.00</td>\n",
       "    </tr>\n",
       "    <tr>\n",
       "      <th>28</th>\n",
       "      <td>Rempah-Rempah</td>\n",
       "      <td>Cabe Rawit Merah</td>\n",
       "      <td>32000</td>\n",
       "      <td>1.000</td>\n",
       "      <td>10.00</td>\n",
       "    </tr>\n",
       "    <tr>\n",
       "      <th>29</th>\n",
       "      <td>Rempah-Rempah</td>\n",
       "      <td>Bawang Merah</td>\n",
       "      <td>28000</td>\n",
       "      <td>1.000</td>\n",
       "      <td>50.00</td>\n",
       "    </tr>\n",
       "    <tr>\n",
       "      <th>30</th>\n",
       "      <td>Rempah-Rempah</td>\n",
       "      <td>Bawang Putih Honan</td>\n",
       "      <td>26000</td>\n",
       "      <td>1.000</td>\n",
       "      <td>50.00</td>\n",
       "    </tr>\n",
       "    <tr>\n",
       "      <th>31</th>\n",
       "      <td>Rempah-Rempah</td>\n",
       "      <td>Bawang Putih Kating</td>\n",
       "      <td>30000</td>\n",
       "      <td>1.000</td>\n",
       "      <td>40.00</td>\n",
       "    </tr>\n",
       "    <tr>\n",
       "      <th>32</th>\n",
       "      <td>Rempah-Rempah</td>\n",
       "      <td>Bawang Bombay</td>\n",
       "      <td>27000</td>\n",
       "      <td>1.000</td>\n",
       "      <td>40.00</td>\n",
       "    </tr>\n",
       "    <tr>\n",
       "      <th>33</th>\n",
       "      <td>Ikan</td>\n",
       "      <td>Ikan Asin Teri</td>\n",
       "      <td>120000</td>\n",
       "      <td>1.000</td>\n",
       "      <td>10.00</td>\n",
       "    </tr>\n",
       "    <tr>\n",
       "      <th>34</th>\n",
       "      <td>Ikan</td>\n",
       "      <td>Ikan Asin Kembung</td>\n",
       "      <td>60000</td>\n",
       "      <td>1.000</td>\n",
       "      <td>35.00</td>\n",
       "    </tr>\n",
       "    <tr>\n",
       "      <th>35</th>\n",
       "      <td>Ikan</td>\n",
       "      <td>Ikan Segar Bandeng</td>\n",
       "      <td>25000</td>\n",
       "      <td>1.000</td>\n",
       "      <td>30.00</td>\n",
       "    </tr>\n",
       "    <tr>\n",
       "      <th>36</th>\n",
       "      <td>Ikan</td>\n",
       "      <td>Ikan Segar Kembung</td>\n",
       "      <td>30000</td>\n",
       "      <td>1.000</td>\n",
       "      <td>50.00</td>\n",
       "    </tr>\n",
       "    <tr>\n",
       "      <th>37</th>\n",
       "      <td>Ikan</td>\n",
       "      <td>Ikan Segar Tongkol</td>\n",
       "      <td>30000</td>\n",
       "      <td>1.000</td>\n",
       "      <td>50.00</td>\n",
       "    </tr>\n",
       "    <tr>\n",
       "      <th>38</th>\n",
       "      <td>Ikan</td>\n",
       "      <td>Ikan Mas</td>\n",
       "      <td>30000</td>\n",
       "      <td>1.000</td>\n",
       "      <td>50.00</td>\n",
       "    </tr>\n",
       "    <tr>\n",
       "      <th>39</th>\n",
       "      <td>Ikan</td>\n",
       "      <td>Ikan Nila</td>\n",
       "      <td>30000</td>\n",
       "      <td>1.000</td>\n",
       "      <td>50.00</td>\n",
       "    </tr>\n",
       "    <tr>\n",
       "      <th>40</th>\n",
       "      <td>Ikan</td>\n",
       "      <td>Ikan Patin</td>\n",
       "      <td>23000</td>\n",
       "      <td>1.000</td>\n",
       "      <td>50.00</td>\n",
       "    </tr>\n",
       "    <tr>\n",
       "      <th>41</th>\n",
       "      <td>Ikan</td>\n",
       "      <td>Ikan Lele</td>\n",
       "      <td>23000</td>\n",
       "      <td>1.000</td>\n",
       "      <td>50.00</td>\n",
       "    </tr>\n",
       "    <tr>\n",
       "      <th>42</th>\n",
       "      <td>Sayur</td>\n",
       "      <td>Buncis</td>\n",
       "      <td>12000</td>\n",
       "      <td>1.000</td>\n",
       "      <td>13.00</td>\n",
       "    </tr>\n",
       "    <tr>\n",
       "      <th>43</th>\n",
       "      <td>Sayur</td>\n",
       "      <td>Tomat Sayur</td>\n",
       "      <td>9000</td>\n",
       "      <td>1.000</td>\n",
       "      <td>15.00</td>\n",
       "    </tr>\n",
       "    <tr>\n",
       "      <th>44</th>\n",
       "      <td>Sayur</td>\n",
       "      <td>Wortel</td>\n",
       "      <td>8000</td>\n",
       "      <td>1.000</td>\n",
       "      <td>11.00</td>\n",
       "    </tr>\n",
       "    <tr>\n",
       "      <th>45</th>\n",
       "      <td>Sayur</td>\n",
       "      <td>Kol</td>\n",
       "      <td>5000</td>\n",
       "      <td>1.000</td>\n",
       "      <td>8.00</td>\n",
       "    </tr>\n",
       "    <tr>\n",
       "      <th>46</th>\n",
       "      <td>Sayur</td>\n",
       "      <td>Sawi Putih</td>\n",
       "      <td>8000</td>\n",
       "      <td>1.000</td>\n",
       "      <td>9.00</td>\n",
       "    </tr>\n",
       "    <tr>\n",
       "      <th>47</th>\n",
       "      <td>Buah</td>\n",
       "      <td>Ketela Pohon</td>\n",
       "      <td>3000</td>\n",
       "      <td>1.000</td>\n",
       "      <td>12.50</td>\n",
       "    </tr>\n",
       "    <tr>\n",
       "      <th>48</th>\n",
       "      <td>Buah</td>\n",
       "      <td>Kacang Kedelai Ex Import</td>\n",
       "      <td>12000</td>\n",
       "      <td>1.000</td>\n",
       "      <td>15.00</td>\n",
       "    </tr>\n",
       "    <tr>\n",
       "      <th>49</th>\n",
       "      <td>Buah</td>\n",
       "      <td>Kacang Tanah</td>\n",
       "      <td>28000</td>\n",
       "      <td>1.000</td>\n",
       "      <td>25.00</td>\n",
       "    </tr>\n",
       "    <tr>\n",
       "      <th>50</th>\n",
       "      <td>Buah</td>\n",
       "      <td>Kacang Hijau</td>\n",
       "      <td>24000</td>\n",
       "      <td>1.000</td>\n",
       "      <td>20.00</td>\n",
       "    </tr>\n",
       "    <tr>\n",
       "      <th>51</th>\n",
       "      <td>Buah</td>\n",
       "      <td>Kentang</td>\n",
       "      <td>12000</td>\n",
       "      <td>1.000</td>\n",
       "      <td>15.00</td>\n",
       "    </tr>\n",
       "    <tr>\n",
       "      <th>52</th>\n",
       "      <td>Buah</td>\n",
       "      <td>Terong Ungu</td>\n",
       "      <td>8000</td>\n",
       "      <td>1.000</td>\n",
       "      <td>10.00</td>\n",
       "    </tr>\n",
       "    <tr>\n",
       "      <th>53</th>\n",
       "      <td>Buah</td>\n",
       "      <td>Timun</td>\n",
       "      <td>7000</td>\n",
       "      <td>1.000</td>\n",
       "      <td>12.00</td>\n",
       "    </tr>\n",
       "  </tbody>\n",
       "</table>\n",
       "</div>"
      ],
      "text/plain": [
       "         Kategori                 Nama Bahan Pangan  Harga(Rp)  Berat(Kg)  \\\n",
       "0    Bahan Pangan        Beras Medium Merk Rojolele      10000      1.000   \n",
       "1    Bahan Pangan    Beras Premium Merk Subur Jaya       13000      1.000   \n",
       "2    Bahan Pangan      Beras Premium Merk Dua Koki       12200      1.000   \n",
       "3    Bahan Pangan    Beras Premium Merk Raja Udang       11800      1.000   \n",
       "4    Bahan Pangan         Beras Premium Merk Mawar       11000      1.000   \n",
       "5    Bahan Pangan                       Gula Pasir       14000      1.000   \n",
       "6    Bahan Pangan              Minyak Goreng Curah       10000      1.000   \n",
       "7    Bahan Pangan  Minyak Goreng Kemasan Sederhana       11000      1.000   \n",
       "8    Bahan Pangan    Minyak Goreng Kemasan Premium       20000      1.000   \n",
       "9    Bahan Pangan                Susu Kental Manis       10000      1.000   \n",
       "10   Bahan Pangan               Telur Ayam Broiler       20000      1.000   \n",
       "11   Bahan Pangan               Telur Ayam Kampung       55000      1.000   \n",
       "12   Bahan Pangan            Jagung Pipilan Kering        7000      1.000   \n",
       "13   Bahan Pangan             Mie Instan Kari Ayam        2300      0.085   \n",
       "14   Bahan Pangan                    Tepung Terigu       12000      1.000   \n",
       "15   Bahan Pangan             Beras Medium Merk AK       40500      1.000   \n",
       "16   Bahan Pangan            Garam Beryodium Halus        4000      0.500   \n",
       "17         Daging        Daging Sapi Paha Belakang      120000      1.000   \n",
       "18         Daging           Daging Sapi Paha Depan      120000      1.000   \n",
       "19         Daging        Daging Sapi Sandung Lamur       65000      1.000   \n",
       "20         Daging              Daging Sapi Tetelan       65000      1.000   \n",
       "21         Daging            Daging Sapi Has Dalam      120000      1.000   \n",
       "22         Daging             Daging Sapi Has Luar      120000      1.000   \n",
       "23         Daging              Daging Ayam Broiler       40000      1.000   \n",
       "24         Daging              Daging Ayam Kampung       65000      1.000   \n",
       "25  Rempah-Rempah              Cabe Merah Keriting       23000      1.000   \n",
       "26  Rempah-Rempah                 Cabe Merah Besar       22000      1.000   \n",
       "27  Rempah-Rempah                 Cabe Rawit Hijau       47000      1.000   \n",
       "28  Rempah-Rempah                 Cabe Rawit Merah       32000      1.000   \n",
       "29  Rempah-Rempah                     Bawang Merah       28000      1.000   \n",
       "30  Rempah-Rempah               Bawang Putih Honan       26000      1.000   \n",
       "31  Rempah-Rempah              Bawang Putih Kating       30000      1.000   \n",
       "32  Rempah-Rempah                    Bawang Bombay       27000      1.000   \n",
       "33           Ikan                   Ikan Asin Teri      120000      1.000   \n",
       "34           Ikan                Ikan Asin Kembung       60000      1.000   \n",
       "35           Ikan               Ikan Segar Bandeng       25000      1.000   \n",
       "36           Ikan               Ikan Segar Kembung       30000      1.000   \n",
       "37           Ikan                Ikan Segar Tongkol      30000      1.000   \n",
       "38           Ikan                         Ikan Mas       30000      1.000   \n",
       "39           Ikan                        Ikan Nila       30000      1.000   \n",
       "40           Ikan                       Ikan Patin       23000      1.000   \n",
       "41           Ikan                        Ikan Lele       23000      1.000   \n",
       "42          Sayur                           Buncis       12000      1.000   \n",
       "43          Sayur                      Tomat Sayur        9000      1.000   \n",
       "44          Sayur                           Wortel        8000      1.000   \n",
       "45          Sayur                              Kol        5000      1.000   \n",
       "46          Sayur                       Sawi Putih        8000      1.000   \n",
       "47           Buah                     Ketela Pohon        3000      1.000   \n",
       "48           Buah         Kacang Kedelai Ex Import       12000      1.000   \n",
       "49           Buah                     Kacang Tanah       28000      1.000   \n",
       "50           Buah                     Kacang Hijau       24000      1.000   \n",
       "51           Buah                          Kentang       12000      1.000   \n",
       "52           Buah                      Terong Ungu        8000      1.000   \n",
       "53           Buah                            Timun        7000      1.000   \n",
       "\n",
       "    Ketersediaan(Kg)  \n",
       "0              20.00  \n",
       "1               8.00  \n",
       "2              12.00  \n",
       "3              10.00  \n",
       "4               9.00  \n",
       "5              15.00  \n",
       "6              25.00  \n",
       "7              20.00  \n",
       "8              30.00  \n",
       "9               5.25  \n",
       "10             10.00  \n",
       "11              7.00  \n",
       "12             10.00  \n",
       "13              8.50  \n",
       "14              8.00  \n",
       "15              7.00  \n",
       "16              4.00  \n",
       "17             75.00  \n",
       "18             75.00  \n",
       "19             45.00  \n",
       "20             35.00  \n",
       "21             45.00  \n",
       "22             45.00  \n",
       "23             18.00  \n",
       "24             30.00  \n",
       "25             15.00  \n",
       "26             15.00  \n",
       "27              7.00  \n",
       "28             10.00  \n",
       "29             50.00  \n",
       "30             50.00  \n",
       "31             40.00  \n",
       "32             40.00  \n",
       "33             10.00  \n",
       "34             35.00  \n",
       "35             30.00  \n",
       "36             50.00  \n",
       "37             50.00  \n",
       "38             50.00  \n",
       "39             50.00  \n",
       "40             50.00  \n",
       "41             50.00  \n",
       "42             13.00  \n",
       "43             15.00  \n",
       "44             11.00  \n",
       "45              8.00  \n",
       "46              9.00  \n",
       "47             12.50  \n",
       "48             15.00  \n",
       "49             25.00  \n",
       "50             20.00  \n",
       "51             15.00  \n",
       "52             10.00  \n",
       "53             12.00  "
      ]
     },
     "execution_count": 1,
     "metadata": {},
     "output_type": "execute_result"
    }
   ],
   "source": [
    "import numpy as np\n",
    "import pandas as pd\n",
    "import matplotlib.pyplot as plt\n",
    "\n",
    "df = pd.read_csv('Data_Pasar.csv', encoding='cp1252', delimiter = ';')\n",
    "profit = df['Harga(Rp)'] = df['Harga(Rp)'].values\n",
    "weight = df['Berat(Kg)'] = df['Berat(Kg)'].values\n",
    "df"
   ]
  },
  {
   "cell_type": "code",
   "execution_count": 2,
   "id": "fa03afe5-e65d-4781-ad7b-11cc56c9c443",
   "metadata": {},
   "outputs": [],
   "source": [
    "df.rename(columns = {\"Berat(Kg)\": \"Berat\", \"Harga(Rp)\": \"Harga\"}, inplace=True)"
   ]
  },
  {
   "cell_type": "code",
   "execution_count": 3,
   "id": "4bb8e1e3-c8de-4107-80da-ad6a1d0b304c",
   "metadata": {},
   "outputs": [
    {
     "name": "stdout",
     "output_type": "stream",
     "text": [
      "<class 'pandas.core.frame.DataFrame'>\n",
      "RangeIndex: 54 entries, 0 to 53\n",
      "Data columns (total 5 columns):\n",
      " #   Column             Non-Null Count  Dtype  \n",
      "---  ------             --------------  -----  \n",
      " 0   Kategori           54 non-null     object \n",
      " 1   Nama Bahan Pangan  54 non-null     object \n",
      " 2   Harga              54 non-null     int64  \n",
      " 3   Berat              54 non-null     float64\n",
      " 4   Ketersediaan(Kg)   54 non-null     float64\n",
      "dtypes: float64(2), int64(1), object(2)\n",
      "memory usage: 2.2+ KB\n"
     ]
    }
   ],
   "source": [
    "df.info()"
   ]
  },
  {
   "cell_type": "code",
   "execution_count": 4,
   "id": "85d40df6-8376-4a7b-bb9a-43210104c102",
   "metadata": {},
   "outputs": [
    {
     "data": {
      "text/html": [
       "<div>\n",
       "<style scoped>\n",
       "    .dataframe tbody tr th:only-of-type {\n",
       "        vertical-align: middle;\n",
       "    }\n",
       "\n",
       "    .dataframe tbody tr th {\n",
       "        vertical-align: top;\n",
       "    }\n",
       "\n",
       "    .dataframe thead th {\n",
       "        text-align: right;\n",
       "    }\n",
       "</style>\n",
       "<table border=\"1\" class=\"dataframe\">\n",
       "  <thead>\n",
       "    <tr style=\"text-align: right;\">\n",
       "      <th></th>\n",
       "      <th>Harga</th>\n",
       "      <th>Berat</th>\n",
       "      <th>Ketersediaan(Kg)</th>\n",
       "    </tr>\n",
       "  </thead>\n",
       "  <tbody>\n",
       "    <tr>\n",
       "      <th>count</th>\n",
       "      <td>54.000000</td>\n",
       "      <td>54.000000</td>\n",
       "      <td>54.000000</td>\n",
       "    </tr>\n",
       "    <tr>\n",
       "      <th>mean</th>\n",
       "      <td>31866.666667</td>\n",
       "      <td>0.973796</td>\n",
       "      <td>24.893519</td>\n",
       "    </tr>\n",
       "    <tr>\n",
       "      <th>std</th>\n",
       "      <td>32702.045404</td>\n",
       "      <td>0.140763</td>\n",
       "      <td>18.575166</td>\n",
       "    </tr>\n",
       "    <tr>\n",
       "      <th>min</th>\n",
       "      <td>2300.000000</td>\n",
       "      <td>0.085000</td>\n",
       "      <td>4.000000</td>\n",
       "    </tr>\n",
       "    <tr>\n",
       "      <th>25%</th>\n",
       "      <td>11000.000000</td>\n",
       "      <td>1.000000</td>\n",
       "      <td>10.000000</td>\n",
       "    </tr>\n",
       "    <tr>\n",
       "      <th>50%</th>\n",
       "      <td>23000.000000</td>\n",
       "      <td>1.000000</td>\n",
       "      <td>15.000000</td>\n",
       "    </tr>\n",
       "    <tr>\n",
       "      <th>75%</th>\n",
       "      <td>31500.000000</td>\n",
       "      <td>1.000000</td>\n",
       "      <td>40.000000</td>\n",
       "    </tr>\n",
       "    <tr>\n",
       "      <th>max</th>\n",
       "      <td>120000.000000</td>\n",
       "      <td>1.000000</td>\n",
       "      <td>75.000000</td>\n",
       "    </tr>\n",
       "  </tbody>\n",
       "</table>\n",
       "</div>"
      ],
      "text/plain": [
       "               Harga      Berat  Ketersediaan(Kg)\n",
       "count      54.000000  54.000000         54.000000\n",
       "mean    31866.666667   0.973796         24.893519\n",
       "std     32702.045404   0.140763         18.575166\n",
       "min      2300.000000   0.085000          4.000000\n",
       "25%     11000.000000   1.000000         10.000000\n",
       "50%     23000.000000   1.000000         15.000000\n",
       "75%     31500.000000   1.000000         40.000000\n",
       "max    120000.000000   1.000000         75.000000"
      ]
     },
     "execution_count": 4,
     "metadata": {},
     "output_type": "execute_result"
    }
   ],
   "source": [
    "df.describe()"
   ]
  },
  {
   "cell_type": "code",
   "execution_count": 5,
   "id": "98a41e13-0523-40a5-b1b2-71cba6af5146",
   "metadata": {},
   "outputs": [
    {
     "data": {
      "text/html": [
       "<div>\n",
       "<style scoped>\n",
       "    .dataframe tbody tr th:only-of-type {\n",
       "        vertical-align: middle;\n",
       "    }\n",
       "\n",
       "    .dataframe tbody tr th {\n",
       "        vertical-align: top;\n",
       "    }\n",
       "\n",
       "    .dataframe thead th {\n",
       "        text-align: right;\n",
       "    }\n",
       "</style>\n",
       "<table border=\"1\" class=\"dataframe\">\n",
       "  <thead>\n",
       "    <tr style=\"text-align: right;\">\n",
       "      <th></th>\n",
       "      <th>0</th>\n",
       "      <th>1</th>\n",
       "      <th>2</th>\n",
       "      <th>3</th>\n",
       "      <th>4</th>\n",
       "      <th>5</th>\n",
       "      <th>6</th>\n",
       "      <th>7</th>\n",
       "      <th>8</th>\n",
       "      <th>9</th>\n",
       "      <th>...</th>\n",
       "      <th>44</th>\n",
       "      <th>45</th>\n",
       "      <th>46</th>\n",
       "      <th>47</th>\n",
       "      <th>48</th>\n",
       "      <th>49</th>\n",
       "      <th>50</th>\n",
       "      <th>51</th>\n",
       "      <th>52</th>\n",
       "      <th>53</th>\n",
       "    </tr>\n",
       "  </thead>\n",
       "  <tbody>\n",
       "    <tr>\n",
       "      <th>0</th>\n",
       "      <td>0.0</td>\n",
       "      <td>2.0</td>\n",
       "      <td>2.0</td>\n",
       "      <td>2.0</td>\n",
       "      <td>2.0</td>\n",
       "      <td>2.0</td>\n",
       "      <td>2.0</td>\n",
       "      <td>2.0</td>\n",
       "      <td>2.0</td>\n",
       "      <td>2.0</td>\n",
       "      <td>...</td>\n",
       "      <td>2.0</td>\n",
       "      <td>2.0</td>\n",
       "      <td>2.0</td>\n",
       "      <td>2.0</td>\n",
       "      <td>2.0</td>\n",
       "      <td>2.0</td>\n",
       "      <td>2.0</td>\n",
       "      <td>2.0</td>\n",
       "      <td>2.0</td>\n",
       "      <td>2.0</td>\n",
       "    </tr>\n",
       "    <tr>\n",
       "      <th>1</th>\n",
       "      <td>2.0</td>\n",
       "      <td>0.0</td>\n",
       "      <td>2.0</td>\n",
       "      <td>2.0</td>\n",
       "      <td>2.0</td>\n",
       "      <td>2.0</td>\n",
       "      <td>2.0</td>\n",
       "      <td>2.0</td>\n",
       "      <td>2.0</td>\n",
       "      <td>2.0</td>\n",
       "      <td>...</td>\n",
       "      <td>2.0</td>\n",
       "      <td>2.0</td>\n",
       "      <td>2.0</td>\n",
       "      <td>2.0</td>\n",
       "      <td>2.0</td>\n",
       "      <td>2.0</td>\n",
       "      <td>2.0</td>\n",
       "      <td>2.0</td>\n",
       "      <td>2.0</td>\n",
       "      <td>2.0</td>\n",
       "    </tr>\n",
       "    <tr>\n",
       "      <th>2</th>\n",
       "      <td>2.0</td>\n",
       "      <td>2.0</td>\n",
       "      <td>0.0</td>\n",
       "      <td>2.0</td>\n",
       "      <td>2.0</td>\n",
       "      <td>2.0</td>\n",
       "      <td>2.0</td>\n",
       "      <td>2.0</td>\n",
       "      <td>2.0</td>\n",
       "      <td>2.0</td>\n",
       "      <td>...</td>\n",
       "      <td>2.0</td>\n",
       "      <td>2.0</td>\n",
       "      <td>2.0</td>\n",
       "      <td>2.0</td>\n",
       "      <td>2.0</td>\n",
       "      <td>2.0</td>\n",
       "      <td>2.0</td>\n",
       "      <td>2.0</td>\n",
       "      <td>2.0</td>\n",
       "      <td>2.0</td>\n",
       "    </tr>\n",
       "    <tr>\n",
       "      <th>3</th>\n",
       "      <td>2.0</td>\n",
       "      <td>2.0</td>\n",
       "      <td>2.0</td>\n",
       "      <td>0.0</td>\n",
       "      <td>2.0</td>\n",
       "      <td>2.0</td>\n",
       "      <td>2.0</td>\n",
       "      <td>2.0</td>\n",
       "      <td>2.0</td>\n",
       "      <td>2.0</td>\n",
       "      <td>...</td>\n",
       "      <td>2.0</td>\n",
       "      <td>2.0</td>\n",
       "      <td>2.0</td>\n",
       "      <td>2.0</td>\n",
       "      <td>2.0</td>\n",
       "      <td>2.0</td>\n",
       "      <td>2.0</td>\n",
       "      <td>2.0</td>\n",
       "      <td>2.0</td>\n",
       "      <td>2.0</td>\n",
       "    </tr>\n",
       "    <tr>\n",
       "      <th>4</th>\n",
       "      <td>2.0</td>\n",
       "      <td>2.0</td>\n",
       "      <td>2.0</td>\n",
       "      <td>2.0</td>\n",
       "      <td>0.0</td>\n",
       "      <td>2.0</td>\n",
       "      <td>2.0</td>\n",
       "      <td>2.0</td>\n",
       "      <td>2.0</td>\n",
       "      <td>2.0</td>\n",
       "      <td>...</td>\n",
       "      <td>2.0</td>\n",
       "      <td>2.0</td>\n",
       "      <td>2.0</td>\n",
       "      <td>2.0</td>\n",
       "      <td>2.0</td>\n",
       "      <td>2.0</td>\n",
       "      <td>2.0</td>\n",
       "      <td>2.0</td>\n",
       "      <td>2.0</td>\n",
       "      <td>2.0</td>\n",
       "    </tr>\n",
       "  </tbody>\n",
       "</table>\n",
       "<p>5 rows × 54 columns</p>\n",
       "</div>"
      ],
      "text/plain": [
       "    0    1    2    3    4    5    6    7    8    9   ...   44   45   46   47  \\\n",
       "0  0.0  2.0  2.0  2.0  2.0  2.0  2.0  2.0  2.0  2.0  ...  2.0  2.0  2.0  2.0   \n",
       "1  2.0  0.0  2.0  2.0  2.0  2.0  2.0  2.0  2.0  2.0  ...  2.0  2.0  2.0  2.0   \n",
       "2  2.0  2.0  0.0  2.0  2.0  2.0  2.0  2.0  2.0  2.0  ...  2.0  2.0  2.0  2.0   \n",
       "3  2.0  2.0  2.0  0.0  2.0  2.0  2.0  2.0  2.0  2.0  ...  2.0  2.0  2.0  2.0   \n",
       "4  2.0  2.0  2.0  2.0  0.0  2.0  2.0  2.0  2.0  2.0  ...  2.0  2.0  2.0  2.0   \n",
       "\n",
       "    48   49   50   51   52   53  \n",
       "0  2.0  2.0  2.0  2.0  2.0  2.0  \n",
       "1  2.0  2.0  2.0  2.0  2.0  2.0  \n",
       "2  2.0  2.0  2.0  2.0  2.0  2.0  \n",
       "3  2.0  2.0  2.0  2.0  2.0  2.0  \n",
       "4  2.0  2.0  2.0  2.0  2.0  2.0  \n",
       "\n",
       "[5 rows x 54 columns]"
      ]
     },
     "execution_count": 5,
     "metadata": {},
     "output_type": "execute_result"
    }
   ],
   "source": [
    "berat = df['Berat'].values\n",
    "\n",
    "db = [[berat[j] + berat[i] if i!=j else 0 for j in range(len(berat)) ] for i in range(len(berat))]\n",
    "adj_mat_w = pd.DataFrame(db)\n",
    "adj_mat_w.head()"
   ]
  },
  {
   "cell_type": "code",
   "execution_count": 6,
   "id": "cc7ca79a-474d-4640-9812-7ba838a2537f",
   "metadata": {},
   "outputs": [
    {
     "data": {
      "text/html": [
       "<div>\n",
       "<style scoped>\n",
       "    .dataframe tbody tr th:only-of-type {\n",
       "        vertical-align: middle;\n",
       "    }\n",
       "\n",
       "    .dataframe tbody tr th {\n",
       "        vertical-align: top;\n",
       "    }\n",
       "\n",
       "    .dataframe thead th {\n",
       "        text-align: right;\n",
       "    }\n",
       "</style>\n",
       "<table border=\"1\" class=\"dataframe\">\n",
       "  <thead>\n",
       "    <tr style=\"text-align: right;\">\n",
       "      <th></th>\n",
       "      <th>0</th>\n",
       "      <th>1</th>\n",
       "      <th>2</th>\n",
       "      <th>3</th>\n",
       "      <th>4</th>\n",
       "      <th>5</th>\n",
       "      <th>6</th>\n",
       "      <th>7</th>\n",
       "      <th>8</th>\n",
       "      <th>9</th>\n",
       "      <th>...</th>\n",
       "      <th>44</th>\n",
       "      <th>45</th>\n",
       "      <th>46</th>\n",
       "      <th>47</th>\n",
       "      <th>48</th>\n",
       "      <th>49</th>\n",
       "      <th>50</th>\n",
       "      <th>51</th>\n",
       "      <th>52</th>\n",
       "      <th>53</th>\n",
       "    </tr>\n",
       "  </thead>\n",
       "  <tbody>\n",
       "    <tr>\n",
       "      <th>0</th>\n",
       "      <td>0</td>\n",
       "      <td>23000</td>\n",
       "      <td>22200</td>\n",
       "      <td>21800</td>\n",
       "      <td>21000</td>\n",
       "      <td>24000</td>\n",
       "      <td>20000</td>\n",
       "      <td>21000</td>\n",
       "      <td>30000</td>\n",
       "      <td>20000</td>\n",
       "      <td>...</td>\n",
       "      <td>18000</td>\n",
       "      <td>15000</td>\n",
       "      <td>18000</td>\n",
       "      <td>13000</td>\n",
       "      <td>22000</td>\n",
       "      <td>38000</td>\n",
       "      <td>34000</td>\n",
       "      <td>22000</td>\n",
       "      <td>18000</td>\n",
       "      <td>17000</td>\n",
       "    </tr>\n",
       "    <tr>\n",
       "      <th>1</th>\n",
       "      <td>23000</td>\n",
       "      <td>0</td>\n",
       "      <td>25200</td>\n",
       "      <td>24800</td>\n",
       "      <td>24000</td>\n",
       "      <td>27000</td>\n",
       "      <td>23000</td>\n",
       "      <td>24000</td>\n",
       "      <td>33000</td>\n",
       "      <td>23000</td>\n",
       "      <td>...</td>\n",
       "      <td>21000</td>\n",
       "      <td>18000</td>\n",
       "      <td>21000</td>\n",
       "      <td>16000</td>\n",
       "      <td>25000</td>\n",
       "      <td>41000</td>\n",
       "      <td>37000</td>\n",
       "      <td>25000</td>\n",
       "      <td>21000</td>\n",
       "      <td>20000</td>\n",
       "    </tr>\n",
       "    <tr>\n",
       "      <th>2</th>\n",
       "      <td>22200</td>\n",
       "      <td>25200</td>\n",
       "      <td>0</td>\n",
       "      <td>24000</td>\n",
       "      <td>23200</td>\n",
       "      <td>26200</td>\n",
       "      <td>22200</td>\n",
       "      <td>23200</td>\n",
       "      <td>32200</td>\n",
       "      <td>22200</td>\n",
       "      <td>...</td>\n",
       "      <td>20200</td>\n",
       "      <td>17200</td>\n",
       "      <td>20200</td>\n",
       "      <td>15200</td>\n",
       "      <td>24200</td>\n",
       "      <td>40200</td>\n",
       "      <td>36200</td>\n",
       "      <td>24200</td>\n",
       "      <td>20200</td>\n",
       "      <td>19200</td>\n",
       "    </tr>\n",
       "    <tr>\n",
       "      <th>3</th>\n",
       "      <td>21800</td>\n",
       "      <td>24800</td>\n",
       "      <td>24000</td>\n",
       "      <td>0</td>\n",
       "      <td>22800</td>\n",
       "      <td>25800</td>\n",
       "      <td>21800</td>\n",
       "      <td>22800</td>\n",
       "      <td>31800</td>\n",
       "      <td>21800</td>\n",
       "      <td>...</td>\n",
       "      <td>19800</td>\n",
       "      <td>16800</td>\n",
       "      <td>19800</td>\n",
       "      <td>14800</td>\n",
       "      <td>23800</td>\n",
       "      <td>39800</td>\n",
       "      <td>35800</td>\n",
       "      <td>23800</td>\n",
       "      <td>19800</td>\n",
       "      <td>18800</td>\n",
       "    </tr>\n",
       "    <tr>\n",
       "      <th>4</th>\n",
       "      <td>21000</td>\n",
       "      <td>24000</td>\n",
       "      <td>23200</td>\n",
       "      <td>22800</td>\n",
       "      <td>0</td>\n",
       "      <td>25000</td>\n",
       "      <td>21000</td>\n",
       "      <td>22000</td>\n",
       "      <td>31000</td>\n",
       "      <td>21000</td>\n",
       "      <td>...</td>\n",
       "      <td>19000</td>\n",
       "      <td>16000</td>\n",
       "      <td>19000</td>\n",
       "      <td>14000</td>\n",
       "      <td>23000</td>\n",
       "      <td>39000</td>\n",
       "      <td>35000</td>\n",
       "      <td>23000</td>\n",
       "      <td>19000</td>\n",
       "      <td>18000</td>\n",
       "    </tr>\n",
       "  </tbody>\n",
       "</table>\n",
       "<p>5 rows × 54 columns</p>\n",
       "</div>"
      ],
      "text/plain": [
       "      0      1      2      3      4      5      6      7      8      9   ...  \\\n",
       "0      0  23000  22200  21800  21000  24000  20000  21000  30000  20000  ...   \n",
       "1  23000      0  25200  24800  24000  27000  23000  24000  33000  23000  ...   \n",
       "2  22200  25200      0  24000  23200  26200  22200  23200  32200  22200  ...   \n",
       "3  21800  24800  24000      0  22800  25800  21800  22800  31800  21800  ...   \n",
       "4  21000  24000  23200  22800      0  25000  21000  22000  31000  21000  ...   \n",
       "\n",
       "      44     45     46     47     48     49     50     51     52     53  \n",
       "0  18000  15000  18000  13000  22000  38000  34000  22000  18000  17000  \n",
       "1  21000  18000  21000  16000  25000  41000  37000  25000  21000  20000  \n",
       "2  20200  17200  20200  15200  24200  40200  36200  24200  20200  19200  \n",
       "3  19800  16800  19800  14800  23800  39800  35800  23800  19800  18800  \n",
       "4  19000  16000  19000  14000  23000  39000  35000  23000  19000  18000  \n",
       "\n",
       "[5 rows x 54 columns]"
      ]
     },
     "execution_count": 6,
     "metadata": {},
     "output_type": "execute_result"
    }
   ],
   "source": [
    "harga = df['Harga'].values\n",
    "\n",
    "dh = [[harga[j] + harga[i] if i!=j else 0 for j in range(len(harga)) ] for i in range(len(harga))]\n",
    "adj_mat_p = pd.DataFrame(dh)\n",
    "adj_mat_p.head()"
   ]
  },
  {
   "cell_type": "markdown",
   "id": "ce8492dd-3231-4f2c-beec-1c726fb75014",
   "metadata": {},
   "source": [
    "Inisialisasi"
   ]
  },
  {
   "cell_type": "code",
   "execution_count": 7,
   "id": "fa98ea6b-de4a-4704-8297-3e7e68918be2",
   "metadata": {},
   "outputs": [],
   "source": [
    "import numpy as np\n",
    "import random\n",
    "#parameter\n",
    "n_bee = 30\n",
    "bee_harga = len(harga)\n",
    "bee_berat = len(berat)\n",
    "look_for = 1"
   ]
  },
  {
   "cell_type": "code",
   "execution_count": 8,
   "id": "60bc103b-b575-4d3a-8c57-338907d26ed2",
   "metadata": {},
   "outputs": [
    {
     "data": {
      "text/html": [
       "<div>\n",
       "<style scoped>\n",
       "    .dataframe tbody tr th:only-of-type {\n",
       "        vertical-align: middle;\n",
       "    }\n",
       "\n",
       "    .dataframe tbody tr th {\n",
       "        vertical-align: top;\n",
       "    }\n",
       "\n",
       "    .dataframe thead th {\n",
       "        text-align: right;\n",
       "    }\n",
       "</style>\n",
       "<table border=\"1\" class=\"dataframe\">\n",
       "  <thead>\n",
       "    <tr style=\"text-align: right;\">\n",
       "      <th></th>\n",
       "      <th>0</th>\n",
       "      <th>1</th>\n",
       "      <th>2</th>\n",
       "      <th>3</th>\n",
       "      <th>4</th>\n",
       "      <th>5</th>\n",
       "      <th>6</th>\n",
       "      <th>7</th>\n",
       "      <th>8</th>\n",
       "      <th>9</th>\n",
       "      <th>...</th>\n",
       "      <th>44</th>\n",
       "      <th>45</th>\n",
       "      <th>46</th>\n",
       "      <th>47</th>\n",
       "      <th>48</th>\n",
       "      <th>49</th>\n",
       "      <th>50</th>\n",
       "      <th>51</th>\n",
       "      <th>52</th>\n",
       "      <th>53</th>\n",
       "    </tr>\n",
       "  </thead>\n",
       "  <tbody>\n",
       "    <tr>\n",
       "      <th>0</th>\n",
       "      <td>0.0</td>\n",
       "      <td>1.0</td>\n",
       "      <td>1.0</td>\n",
       "      <td>1.0</td>\n",
       "      <td>1.0</td>\n",
       "      <td>1.0</td>\n",
       "      <td>1.0</td>\n",
       "      <td>1.0</td>\n",
       "      <td>1.0</td>\n",
       "      <td>1.0</td>\n",
       "      <td>...</td>\n",
       "      <td>1.0</td>\n",
       "      <td>1.0</td>\n",
       "      <td>1.0</td>\n",
       "      <td>1.0</td>\n",
       "      <td>1.0</td>\n",
       "      <td>1.0</td>\n",
       "      <td>1.0</td>\n",
       "      <td>1.0</td>\n",
       "      <td>1.0</td>\n",
       "      <td>1.0</td>\n",
       "    </tr>\n",
       "    <tr>\n",
       "      <th>1</th>\n",
       "      <td>1.0</td>\n",
       "      <td>0.0</td>\n",
       "      <td>1.0</td>\n",
       "      <td>1.0</td>\n",
       "      <td>1.0</td>\n",
       "      <td>1.0</td>\n",
       "      <td>1.0</td>\n",
       "      <td>1.0</td>\n",
       "      <td>1.0</td>\n",
       "      <td>1.0</td>\n",
       "      <td>...</td>\n",
       "      <td>1.0</td>\n",
       "      <td>1.0</td>\n",
       "      <td>1.0</td>\n",
       "      <td>1.0</td>\n",
       "      <td>1.0</td>\n",
       "      <td>1.0</td>\n",
       "      <td>1.0</td>\n",
       "      <td>1.0</td>\n",
       "      <td>1.0</td>\n",
       "      <td>1.0</td>\n",
       "    </tr>\n",
       "    <tr>\n",
       "      <th>2</th>\n",
       "      <td>1.0</td>\n",
       "      <td>1.0</td>\n",
       "      <td>0.0</td>\n",
       "      <td>1.0</td>\n",
       "      <td>1.0</td>\n",
       "      <td>1.0</td>\n",
       "      <td>1.0</td>\n",
       "      <td>1.0</td>\n",
       "      <td>1.0</td>\n",
       "      <td>1.0</td>\n",
       "      <td>...</td>\n",
       "      <td>1.0</td>\n",
       "      <td>1.0</td>\n",
       "      <td>1.0</td>\n",
       "      <td>1.0</td>\n",
       "      <td>1.0</td>\n",
       "      <td>1.0</td>\n",
       "      <td>1.0</td>\n",
       "      <td>1.0</td>\n",
       "      <td>1.0</td>\n",
       "      <td>1.0</td>\n",
       "    </tr>\n",
       "    <tr>\n",
       "      <th>3</th>\n",
       "      <td>1.0</td>\n",
       "      <td>1.0</td>\n",
       "      <td>1.0</td>\n",
       "      <td>0.0</td>\n",
       "      <td>1.0</td>\n",
       "      <td>1.0</td>\n",
       "      <td>1.0</td>\n",
       "      <td>1.0</td>\n",
       "      <td>1.0</td>\n",
       "      <td>1.0</td>\n",
       "      <td>...</td>\n",
       "      <td>1.0</td>\n",
       "      <td>1.0</td>\n",
       "      <td>1.0</td>\n",
       "      <td>1.0</td>\n",
       "      <td>1.0</td>\n",
       "      <td>1.0</td>\n",
       "      <td>1.0</td>\n",
       "      <td>1.0</td>\n",
       "      <td>1.0</td>\n",
       "      <td>1.0</td>\n",
       "    </tr>\n",
       "    <tr>\n",
       "      <th>4</th>\n",
       "      <td>1.0</td>\n",
       "      <td>1.0</td>\n",
       "      <td>1.0</td>\n",
       "      <td>1.0</td>\n",
       "      <td>0.0</td>\n",
       "      <td>1.0</td>\n",
       "      <td>1.0</td>\n",
       "      <td>1.0</td>\n",
       "      <td>1.0</td>\n",
       "      <td>1.0</td>\n",
       "      <td>...</td>\n",
       "      <td>1.0</td>\n",
       "      <td>1.0</td>\n",
       "      <td>1.0</td>\n",
       "      <td>1.0</td>\n",
       "      <td>1.0</td>\n",
       "      <td>1.0</td>\n",
       "      <td>1.0</td>\n",
       "      <td>1.0</td>\n",
       "      <td>1.0</td>\n",
       "      <td>1.0</td>\n",
       "    </tr>\n",
       "  </tbody>\n",
       "</table>\n",
       "<p>5 rows × 54 columns</p>\n",
       "</div>"
      ],
      "text/plain": [
       "    0    1    2    3    4    5    6    7    8    9   ...   44   45   46   47  \\\n",
       "0  0.0  1.0  1.0  1.0  1.0  1.0  1.0  1.0  1.0  1.0  ...  1.0  1.0  1.0  1.0   \n",
       "1  1.0  0.0  1.0  1.0  1.0  1.0  1.0  1.0  1.0  1.0  ...  1.0  1.0  1.0  1.0   \n",
       "2  1.0  1.0  0.0  1.0  1.0  1.0  1.0  1.0  1.0  1.0  ...  1.0  1.0  1.0  1.0   \n",
       "3  1.0  1.0  1.0  0.0  1.0  1.0  1.0  1.0  1.0  1.0  ...  1.0  1.0  1.0  1.0   \n",
       "4  1.0  1.0  1.0  1.0  0.0  1.0  1.0  1.0  1.0  1.0  ...  1.0  1.0  1.0  1.0   \n",
       "\n",
       "    48   49   50   51   52   53  \n",
       "0  1.0  1.0  1.0  1.0  1.0  1.0  \n",
       "1  1.0  1.0  1.0  1.0  1.0  1.0  \n",
       "2  1.0  1.0  1.0  1.0  1.0  1.0  \n",
       "3  1.0  1.0  1.0  1.0  1.0  1.0  \n",
       "4  1.0  1.0  1.0  1.0  1.0  1.0  \n",
       "\n",
       "[5 rows x 54 columns]"
      ]
     },
     "execution_count": 8,
     "metadata": {},
     "output_type": "execute_result"
    }
   ],
   "source": [
    "# berat\n",
    "\n",
    "waggle_dance_weights = np.ones(shape=(bee_berat,bee_berat)) * look_for\n",
    "np.fill_diagonal(waggle_dance_weights,0)\n",
    "\n",
    "waggle_dance_berat = pd.DataFrame(waggle_dance_weights)\n",
    "waggle_dance_berat.head()"
   ]
  },
  {
   "cell_type": "code",
   "execution_count": 9,
   "id": "df11cd78-642d-4686-a1b2-ec2ce11f0219",
   "metadata": {},
   "outputs": [
    {
     "data": {
      "text/html": [
       "<div>\n",
       "<style scoped>\n",
       "    .dataframe tbody tr th:only-of-type {\n",
       "        vertical-align: middle;\n",
       "    }\n",
       "\n",
       "    .dataframe tbody tr th {\n",
       "        vertical-align: top;\n",
       "    }\n",
       "\n",
       "    .dataframe thead th {\n",
       "        text-align: right;\n",
       "    }\n",
       "</style>\n",
       "<table border=\"1\" class=\"dataframe\">\n",
       "  <thead>\n",
       "    <tr style=\"text-align: right;\">\n",
       "      <th></th>\n",
       "      <th>0</th>\n",
       "      <th>1</th>\n",
       "      <th>2</th>\n",
       "      <th>3</th>\n",
       "      <th>4</th>\n",
       "      <th>5</th>\n",
       "      <th>6</th>\n",
       "      <th>7</th>\n",
       "      <th>8</th>\n",
       "      <th>9</th>\n",
       "      <th>...</th>\n",
       "      <th>44</th>\n",
       "      <th>45</th>\n",
       "      <th>46</th>\n",
       "      <th>47</th>\n",
       "      <th>48</th>\n",
       "      <th>49</th>\n",
       "      <th>50</th>\n",
       "      <th>51</th>\n",
       "      <th>52</th>\n",
       "      <th>53</th>\n",
       "    </tr>\n",
       "  </thead>\n",
       "  <tbody>\n",
       "    <tr>\n",
       "      <th>0</th>\n",
       "      <td>0.0</td>\n",
       "      <td>1.0</td>\n",
       "      <td>1.0</td>\n",
       "      <td>1.0</td>\n",
       "      <td>1.0</td>\n",
       "      <td>1.0</td>\n",
       "      <td>1.0</td>\n",
       "      <td>1.0</td>\n",
       "      <td>1.0</td>\n",
       "      <td>1.0</td>\n",
       "      <td>...</td>\n",
       "      <td>1.0</td>\n",
       "      <td>1.0</td>\n",
       "      <td>1.0</td>\n",
       "      <td>1.0</td>\n",
       "      <td>1.0</td>\n",
       "      <td>1.0</td>\n",
       "      <td>1.0</td>\n",
       "      <td>1.0</td>\n",
       "      <td>1.0</td>\n",
       "      <td>1.0</td>\n",
       "    </tr>\n",
       "    <tr>\n",
       "      <th>1</th>\n",
       "      <td>1.0</td>\n",
       "      <td>0.0</td>\n",
       "      <td>1.0</td>\n",
       "      <td>1.0</td>\n",
       "      <td>1.0</td>\n",
       "      <td>1.0</td>\n",
       "      <td>1.0</td>\n",
       "      <td>1.0</td>\n",
       "      <td>1.0</td>\n",
       "      <td>1.0</td>\n",
       "      <td>...</td>\n",
       "      <td>1.0</td>\n",
       "      <td>1.0</td>\n",
       "      <td>1.0</td>\n",
       "      <td>1.0</td>\n",
       "      <td>1.0</td>\n",
       "      <td>1.0</td>\n",
       "      <td>1.0</td>\n",
       "      <td>1.0</td>\n",
       "      <td>1.0</td>\n",
       "      <td>1.0</td>\n",
       "    </tr>\n",
       "    <tr>\n",
       "      <th>2</th>\n",
       "      <td>1.0</td>\n",
       "      <td>1.0</td>\n",
       "      <td>0.0</td>\n",
       "      <td>1.0</td>\n",
       "      <td>1.0</td>\n",
       "      <td>1.0</td>\n",
       "      <td>1.0</td>\n",
       "      <td>1.0</td>\n",
       "      <td>1.0</td>\n",
       "      <td>1.0</td>\n",
       "      <td>...</td>\n",
       "      <td>1.0</td>\n",
       "      <td>1.0</td>\n",
       "      <td>1.0</td>\n",
       "      <td>1.0</td>\n",
       "      <td>1.0</td>\n",
       "      <td>1.0</td>\n",
       "      <td>1.0</td>\n",
       "      <td>1.0</td>\n",
       "      <td>1.0</td>\n",
       "      <td>1.0</td>\n",
       "    </tr>\n",
       "    <tr>\n",
       "      <th>3</th>\n",
       "      <td>1.0</td>\n",
       "      <td>1.0</td>\n",
       "      <td>1.0</td>\n",
       "      <td>0.0</td>\n",
       "      <td>1.0</td>\n",
       "      <td>1.0</td>\n",
       "      <td>1.0</td>\n",
       "      <td>1.0</td>\n",
       "      <td>1.0</td>\n",
       "      <td>1.0</td>\n",
       "      <td>...</td>\n",
       "      <td>1.0</td>\n",
       "      <td>1.0</td>\n",
       "      <td>1.0</td>\n",
       "      <td>1.0</td>\n",
       "      <td>1.0</td>\n",
       "      <td>1.0</td>\n",
       "      <td>1.0</td>\n",
       "      <td>1.0</td>\n",
       "      <td>1.0</td>\n",
       "      <td>1.0</td>\n",
       "    </tr>\n",
       "    <tr>\n",
       "      <th>4</th>\n",
       "      <td>1.0</td>\n",
       "      <td>1.0</td>\n",
       "      <td>1.0</td>\n",
       "      <td>1.0</td>\n",
       "      <td>0.0</td>\n",
       "      <td>1.0</td>\n",
       "      <td>1.0</td>\n",
       "      <td>1.0</td>\n",
       "      <td>1.0</td>\n",
       "      <td>1.0</td>\n",
       "      <td>...</td>\n",
       "      <td>1.0</td>\n",
       "      <td>1.0</td>\n",
       "      <td>1.0</td>\n",
       "      <td>1.0</td>\n",
       "      <td>1.0</td>\n",
       "      <td>1.0</td>\n",
       "      <td>1.0</td>\n",
       "      <td>1.0</td>\n",
       "      <td>1.0</td>\n",
       "      <td>1.0</td>\n",
       "    </tr>\n",
       "  </tbody>\n",
       "</table>\n",
       "<p>5 rows × 54 columns</p>\n",
       "</div>"
      ],
      "text/plain": [
       "    0    1    2    3    4    5    6    7    8    9   ...   44   45   46   47  \\\n",
       "0  0.0  1.0  1.0  1.0  1.0  1.0  1.0  1.0  1.0  1.0  ...  1.0  1.0  1.0  1.0   \n",
       "1  1.0  0.0  1.0  1.0  1.0  1.0  1.0  1.0  1.0  1.0  ...  1.0  1.0  1.0  1.0   \n",
       "2  1.0  1.0  0.0  1.0  1.0  1.0  1.0  1.0  1.0  1.0  ...  1.0  1.0  1.0  1.0   \n",
       "3  1.0  1.0  1.0  0.0  1.0  1.0  1.0  1.0  1.0  1.0  ...  1.0  1.0  1.0  1.0   \n",
       "4  1.0  1.0  1.0  1.0  0.0  1.0  1.0  1.0  1.0  1.0  ...  1.0  1.0  1.0  1.0   \n",
       "\n",
       "    48   49   50   51   52   53  \n",
       "0  1.0  1.0  1.0  1.0  1.0  1.0  \n",
       "1  1.0  1.0  1.0  1.0  1.0  1.0  \n",
       "2  1.0  1.0  1.0  1.0  1.0  1.0  \n",
       "3  1.0  1.0  1.0  1.0  1.0  1.0  \n",
       "4  1.0  1.0  1.0  1.0  1.0  1.0  \n",
       "\n",
       "[5 rows x 54 columns]"
      ]
     },
     "execution_count": 9,
     "metadata": {},
     "output_type": "execute_result"
    }
   ],
   "source": [
    "# harga\n",
    "\n",
    "waggle_dance_profits = np.ones(shape=(bee_harga,bee_harga)) * look_for\n",
    "np.fill_diagonal(waggle_dance_profits,0)\n",
    "\n",
    "waggle_dance_harga = pd.DataFrame(waggle_dance_profits)\n",
    "waggle_dance_harga.head()"
   ]
  },
  {
   "cell_type": "code",
   "execution_count": 10,
   "id": "5bb52064-fd81-47a0-ae7b-f2bf78945910",
   "metadata": {},
   "outputs": [],
   "source": [
    "def sigmoid(x):\n",
    "    return 1/(np.exp(-x)+1)"
   ]
  },
  {
   "cell_type": "code",
   "execution_count": 11,
   "id": "3bc1a848-5234-4dc4-9819-90a64d2e7dba",
   "metadata": {},
   "outputs": [
    {
     "data": {
      "text/plain": [
       "array([[-2.69461346,  3.10532745, -1.65413558, ...,  0.03605178,\n",
       "        -2.46822198, -0.91842386],\n",
       "       [-3.51154236, -1.67648778, -3.34233092, ..., -1.05944356,\n",
       "         0.69298793,  3.78731074],\n",
       "       [-2.05620641, -2.2680277 , -1.71124173, ...,  1.8220168 ,\n",
       "         2.49035177, -1.15658598],\n",
       "       ...,\n",
       "       [ 0.99697268, -1.8427465 , -3.30492578, ..., -2.8076878 ,\n",
       "         3.17754332, -1.29205754],\n",
       "       [-3.56618969, -0.32898294, -1.3869291 , ...,  1.25770492,\n",
       "        -0.88060485,  1.5072932 ],\n",
       "       [ 0.10563131, -2.4765617 , -2.35046203, ...,  1.57658346,\n",
       "        -2.74226478,  1.73946641]])"
      ]
     },
     "execution_count": 11,
     "metadata": {},
     "output_type": "execute_result"
    }
   ],
   "source": [
    "X = np.random.uniform(-4,4,(n_bee, bee_harga))\n",
    "X"
   ]
  },
  {
   "cell_type": "code",
   "execution_count": 12,
   "id": "e74eaed7-ce5d-4af9-8185-3dcd6865eb7c",
   "metadata": {},
   "outputs": [
    {
     "data": {
      "text/plain": [
       "array([[0.06329195, 0.95711196, 0.1605508 , ..., 0.50901197, 0.07811618,\n",
       "        0.28527915],\n",
       "       [0.02898559, 0.1575611 , 0.0341472 , ..., 0.25741581, 0.66663128,\n",
       "        0.97784549],\n",
       "       [0.11342676, 0.09380574, 0.15300273, ..., 0.86080795, 0.92346267,\n",
       "        0.23928818],\n",
       "       ...,\n",
       "       [0.73046295, 0.13672679, 0.03540259, ..., 0.05691015, 0.95998039,\n",
       "        0.21550475],\n",
       "       [0.02748648, 0.41848811, 0.19989846, ..., 0.77863077, 0.29305246,\n",
       "        0.81865971],\n",
       "       [0.5263833 , 0.07751771, 0.08702905, ..., 0.82872011, 0.060525  ,\n",
       "        0.85061928]])"
      ]
     },
     "execution_count": 12,
     "metadata": {},
     "output_type": "execute_result"
    }
   ],
   "source": [
    "sigmoid(X)"
   ]
  },
  {
   "cell_type": "code",
   "execution_count": 13,
   "id": "821f3ad6-d083-42b7-9b8d-86eb8dadaae8",
   "metadata": {},
   "outputs": [
    {
     "data": {
      "text/plain": [
       "array([[0, 1, 0, ..., 1, 0, 0],\n",
       "       [0, 0, 0, ..., 0, 1, 1],\n",
       "       [0, 0, 0, ..., 1, 1, 0],\n",
       "       ...,\n",
       "       [1, 0, 0, ..., 0, 1, 0],\n",
       "       [0, 0, 0, ..., 1, 0, 1],\n",
       "       [1, 0, 0, ..., 1, 0, 1]])"
      ]
     },
     "execution_count": 13,
     "metadata": {},
     "output_type": "execute_result"
    }
   ],
   "source": [
    "klasifikasi = np.vectorize(lambda x: round(x))\n",
    "klasifikasi(sigmoid(X))"
   ]
  },
  {
   "cell_type": "code",
   "execution_count": 14,
   "id": "ba284c0a-0a0f-4996-8595-3212fcc96043",
   "metadata": {},
   "outputs": [
    {
     "data": {
      "text/plain": [
       "array([[0, 1, 0, ..., 1, 0, 0],\n",
       "       [0, 0, 0, ..., 0, 1, 1],\n",
       "       [0, 0, 0, ..., 1, 1, 0],\n",
       "       ...,\n",
       "       [1, 0, 0, ..., 0, 1, 0],\n",
       "       [0, 0, 0, ..., 1, 0, 1],\n",
       "       [1, 0, 0, ..., 1, 0, 1]])"
      ]
     },
     "execution_count": 14,
     "metadata": {},
     "output_type": "execute_result"
    }
   ],
   "source": [
    "#misal untuk partikel ke-2\n",
    "d_partikel = klasifikasi(sigmoid(X))\n",
    "d_partikel"
   ]
  },
  {
   "cell_type": "code",
   "execution_count": 15,
   "id": "6df9ae5e-7a56-4dd6-97b7-c91c8e626cea",
   "metadata": {},
   "outputs": [],
   "source": [
    "# Inisialisasi Individu-Populasi & Diskritisasi\n",
    "gen_individu = lambda n_individu,n_barang,a,b: np.random.uniform(a,b,(n_individu,n_barang))\n",
    "\n",
    "# Fungsi Konstrain\n",
    "def f_constrain(X,df,lim):\n",
    "    return np.sum( X * df['Berat'].values ) <= lim\n",
    "\n",
    "def f_profit(X,df):\n",
    "    return np.sum(X * df['Harga'].values)\n",
    "\n",
    "def f_obj(X,df,lim):\n",
    "    return f_profit(X,df) if f_constrain(X,df,lim) else 0\n",
    "\n",
    "def diskritisasi(bees):\n",
    "    return np.round( 1/ ( 1 + np.exp(-1 * bees) ) )\n",
    "\n",
    "def calculate_fitness(bees,df,p):\n",
    "    d_bees = diskritisasi(bees)\n",
    "    fitness = np.array( list(map( lambda x:f_obj(x,df,p['lim']) , d_bees )) )\n",
    "    fitness = fitness.reshape( (-1,1) )\n",
    "    return fitness\n",
    "\n",
    "def sort_individu(fitness):\n",
    "    return np.argsort(fitness)[::-1] #bees_with_f[bees_with_f[:,-1].argsort()[::-1]]\n",
    "\n",
    "def solusi(bees_w_f):\n",
    "    df_barang = pd.DataFrame(diskritisasi(bees_w_f[:,:-1]))\n",
    "    cols = [ 'Nama Bahan Pangan' + str(i+1) for i in range( df_barang.shape[1]) ]\n",
    "    df_barang.columns = cols\n",
    "    df_barang['Harga'] = bees_w_f[:,-1].reshape(-1,1)\n",
    "    return df_barang\n",
    "\n",
    "def generate_tipe_bee(presentase,bees):\n",
    "    proporsi = np.array(presentase) * bees.shape[0]\n",
    "    proporsi[-1] = bees.shape[0] - ( np.sum(proporsi) - proporsi[-1] )\n",
    "    return np.concatenate( [ np.repeat( i , round(p) ) for i,p in enumerate(proporsi) ] )\n",
    "\n",
    "def scout_movement(scout,a,b):\n",
    "    return scout + np.random.uniform(a,b,size=scout.shape)\n",
    "\n",
    "def employed_movement(employed,alpha):\n",
    "    return employed + np.random.uniform(0,1,size=employed.shape) * alpha\n",
    "\n",
    "def waggle_dance(bees,tipe,fitness):\n",
    "    df = pd.DataFrame( np.concatenate( (bees,tipe.reshape((-1,1)),fitness),axis=1 ) )\n",
    "    employed = df[ df.iloc[:,-2] == 0 ]\n",
    "    p = employed.iloc[:,-1]\n",
    "    if p.sum() == 0:\n",
    "      p = p + 1\n",
    "    return employed.sample(n=1,weights=p).iloc[:,:-2].values\n",
    "\n",
    "def onlooker_movement(onlooker,beta,bees,tipe,fitness):\n",
    "    term1 = np.random.uniform() * ( onlooker - waggle_dance(bees,tipe,fitness) )\n",
    "    term2 = beta * np.random.uniform(size=onlooker.shape)\n",
    "    return onlooker + term1 + term2\n",
    "\n",
    "def get_bee_by_type(df,x):\n",
    "    return df[df[df.columns[-2]] == x].iloc[:,:-2].values\n",
    "\n",
    "def movement(bees,tipe,fitness,params):\n",
    "    df = pd.DataFrame(np.concatenate((bees,tipe.reshape((-1,1)),fitness),axis=1))\n",
    "    employed = employed_movement( get_bee_by_type(df,0), params['alpha'])\n",
    "    onlooker = onlooker_movement( get_bee_by_type(df,1),params['beta'],bees,tipe,fitness )\n",
    "    scouts = scout_movement( get_bee_by_type(df,2),params['a'] , params['b'] )\n",
    "    new_bee = np.concatenate( (employed,onlooker,scouts) )\n",
    "    return new_bee\n",
    "\n",
    "def seleksi(bees,tipe,fitness,params):\n",
    "    idxs = sort_individu(fitness.flatten())\n",
    "    return bees[idxs] , tipe , fitness[idxs]\n",
    "\n",
    "## Inisialisasi Parameter pada metode\n",
    "\n",
    "def inisialisasi(params,df):\n",
    "    return gen_individu(int(params['n_individu']),int(params['n_barang']),params['a'],params['b'])\n",
    "\n",
    "def ABC(params,df):\n",
    "  \n",
    "    generasi = 0\n",
    "    bees = inisialisasi(params,df)\n",
    "    tipe = generate_tipe_bee(params['presentase'],bees)\n",
    "    fitness = calculate_fitness(bees,df,params)\n",
    "    \n",
    "    while generasi<params['max_generasi']:\n",
    "      \n",
    "   \n",
    "      bees = movement(bees,tipe,fitness,params)\n",
    "      fitness = calculate_fitness(bees,df,params)\n",
    "      bees , tipe , fitness = seleksi(bees,tipe,fitness,params)\n",
    "      generasi = generasi+1\n",
    "      \n",
    "      return solusi(np.concatenate((bees,fitness),axis=1))\n",
    "      \n",
    "def run_BCO(dfparams,df):\n",
    "    temp = []\n",
    "    for i in range( dfparams.shape[0]):\n",
    "        prm = dfparams.iloc[i].to_dict()\n",
    "        prm['presentase'] = prm['presentase'].split('|')\n",
    "        for j in range(0, len(prm['presentase'])):\n",
    "            prm['presentase'][j] = float(prm['presentase'][j])\n",
    "        temp.append(ABC(prm,df))\n",
    "    return temp\n",
    "\n",
    "\n",
    "def save_BCO(hasils):\n",
    "  for h in enumerate(hasils):pd.DataFrame(h[1]).to_csv('hasil_BCO' + str(h[0]) + '.csv')"
   ]
  },
  {
   "cell_type": "code",
   "execution_count": 16,
   "id": "1595779d-db9b-4e48-829c-5058487e97c1",
   "metadata": {},
   "outputs": [],
   "source": [
    "# TIPE BEE\n",
    "# 0 = Employed , 1 = Onlooker , 2 = Scout\n",
    "params = {\n",
    "    \"n_individu\":100,\n",
    "    \"n_barang\":54,\n",
    "    \"a\":-1,\n",
    "    \"b\":1,\n",
    "    \"alpha\": 1, # ukuran exploitasi employed\n",
    "    \"beta\":1, # kecepatan onlooker mendekati employed\n",
    "    \"max_generasi\":50,\n",
    "    \"presentase\": [0.20,0.25,0.55],\n",
    "    \"lim\" : 15\n",
    "}"
   ]
  },
  {
   "cell_type": "code",
   "execution_count": 18,
   "id": "979d918e-dee0-42f8-a157-0e442bf514e2",
   "metadata": {},
   "outputs": [],
   "source": [
    "ABC_params_KP = pd.DataFrame(params)\n",
    "ABC_params_KP.to_csv('ABC_params_KP.csv', encoding='utf-8')"
   ]
  },
  {
   "cell_type": "code",
   "execution_count": 28,
   "id": "fce01b83-a996-4cd4-926f-e56f7fa775f1",
   "metadata": {},
   "outputs": [
    {
     "data": {
      "text/html": [
       "<div>\n",
       "<style scoped>\n",
       "    .dataframe tbody tr th:only-of-type {\n",
       "        vertical-align: middle;\n",
       "    }\n",
       "\n",
       "    .dataframe tbody tr th {\n",
       "        vertical-align: top;\n",
       "    }\n",
       "\n",
       "    .dataframe thead th {\n",
       "        text-align: right;\n",
       "    }\n",
       "</style>\n",
       "<table border=\"1\" class=\"dataframe\">\n",
       "  <thead>\n",
       "    <tr style=\"text-align: right;\">\n",
       "      <th></th>\n",
       "      <th>n_individu</th>\n",
       "      <th>n_barang</th>\n",
       "      <th>a</th>\n",
       "      <th>b</th>\n",
       "      <th>alpha</th>\n",
       "      <th>beta</th>\n",
       "      <th>max_generasi</th>\n",
       "      <th>presentase</th>\n",
       "      <th>lim</th>\n",
       "    </tr>\n",
       "  </thead>\n",
       "  <tbody>\n",
       "    <tr>\n",
       "      <th>0</th>\n",
       "      <td>100</td>\n",
       "      <td>54</td>\n",
       "      <td>-5</td>\n",
       "      <td>5</td>\n",
       "      <td>1</td>\n",
       "      <td>1</td>\n",
       "      <td>50</td>\n",
       "      <td>0.20|0.25|0.55</td>\n",
       "      <td>25</td>\n",
       "    </tr>\n",
       "    <tr>\n",
       "      <th>1</th>\n",
       "      <td>100</td>\n",
       "      <td>54</td>\n",
       "      <td>-5</td>\n",
       "      <td>5</td>\n",
       "      <td>1</td>\n",
       "      <td>1</td>\n",
       "      <td>50</td>\n",
       "      <td>0.20|0.25|0.55</td>\n",
       "      <td>25</td>\n",
       "    </tr>\n",
       "    <tr>\n",
       "      <th>2</th>\n",
       "      <td>100</td>\n",
       "      <td>54</td>\n",
       "      <td>-5</td>\n",
       "      <td>5</td>\n",
       "      <td>1</td>\n",
       "      <td>1</td>\n",
       "      <td>50</td>\n",
       "      <td>0.20|0.25|0.55</td>\n",
       "      <td>25</td>\n",
       "    </tr>\n",
       "  </tbody>\n",
       "</table>\n",
       "</div>"
      ],
      "text/plain": [
       "   n_individu  n_barang  a  b  alpha  beta  max_generasi      presentase  lim\n",
       "0         100        54 -5  5      1     1            50  0.20|0.25|0.55   25\n",
       "1         100        54 -5  5      1     1            50  0.20|0.25|0.55   25\n",
       "2         100        54 -5  5      1     1            50  0.20|0.25|0.55   25"
      ]
     },
     "execution_count": 28,
     "metadata": {},
     "output_type": "execute_result"
    }
   ],
   "source": [
    "# Main Program\n",
    "dfparamss = pd.read_csv('ABC_params_KP.csv')\n",
    "dfparamss['n_individu'] = 100\n",
    "dfparamss['lim'] = 25 # batasan \n",
    "dfparamss['a'] = -5\n",
    "dfparamss['b'] = 5\n",
    "\n",
    "dfparamss = dfparamss.drop('Unnamed: 0', axis='columns')\n",
    "dfparamss['presentase'] = '0.20|0.25|0.55'\n",
    "\n",
    "dfparamss"
   ]
  },
  {
   "cell_type": "raw",
   "id": "7cc793c0-6d32-4bd0-b393-d7ce00229332",
   "metadata": {},
   "source": [
    "# Main Program\n",
    "dfparamss = pd.read_csv('ABC_params_KP.csv')\n",
    "dfparamss['n_individu'] = 100\n",
    "dfparamss['lim'] = 25 # batasan \n",
    "dfparamss['a'] = -5\n",
    "dfparamss['b'] = 5\n",
    "\n",
    "dfparamss = dfparamss.drop('Unnamed: 0', axis='columns')\n",
    "dfparamss['presentase'] = '0.20|0.25|0.55'\n",
    "\n",
    "dfparamsdict = dfparamss.loc[0].to_dict()\n",
    "dfparamsdict['presentase'] = dfparamsdict['presentase'].split('|')\n",
    "\n",
    "dfparamsdict"
   ]
  },
  {
   "cell_type": "code",
   "execution_count": 33,
   "id": "699393a1-0dd7-45d6-b067-c66c39a541a0",
   "metadata": {},
   "outputs": [
    {
     "data": {
      "text/html": [
       "<div>\n",
       "<style scoped>\n",
       "    .dataframe tbody tr th:only-of-type {\n",
       "        vertical-align: middle;\n",
       "    }\n",
       "\n",
       "    .dataframe tbody tr th {\n",
       "        vertical-align: top;\n",
       "    }\n",
       "\n",
       "    .dataframe thead th {\n",
       "        text-align: right;\n",
       "    }\n",
       "</style>\n",
       "<table border=\"1\" class=\"dataframe\">\n",
       "  <thead>\n",
       "    <tr style=\"text-align: right;\">\n",
       "      <th></th>\n",
       "      <th>n_individu</th>\n",
       "      <th>n_barang</th>\n",
       "      <th>a</th>\n",
       "      <th>b</th>\n",
       "      <th>alpha</th>\n",
       "      <th>beta</th>\n",
       "      <th>max_generasi</th>\n",
       "      <th>presentase</th>\n",
       "      <th>lim</th>\n",
       "    </tr>\n",
       "  </thead>\n",
       "  <tbody>\n",
       "    <tr>\n",
       "      <th>0</th>\n",
       "      <td>25</td>\n",
       "      <td>54</td>\n",
       "      <td>-1</td>\n",
       "      <td>1</td>\n",
       "      <td>1</td>\n",
       "      <td>1</td>\n",
       "      <td>50</td>\n",
       "      <td>0.20|0.25|0.55</td>\n",
       "      <td>15</td>\n",
       "    </tr>\n",
       "    <tr>\n",
       "      <th>1</th>\n",
       "      <td>25</td>\n",
       "      <td>54</td>\n",
       "      <td>-1</td>\n",
       "      <td>1</td>\n",
       "      <td>1</td>\n",
       "      <td>1</td>\n",
       "      <td>50</td>\n",
       "      <td>0.20|0.25|0.55</td>\n",
       "      <td>15</td>\n",
       "    </tr>\n",
       "    <tr>\n",
       "      <th>2</th>\n",
       "      <td>25</td>\n",
       "      <td>54</td>\n",
       "      <td>-1</td>\n",
       "      <td>1</td>\n",
       "      <td>1</td>\n",
       "      <td>1</td>\n",
       "      <td>50</td>\n",
       "      <td>0.20|0.25|0.55</td>\n",
       "      <td>15</td>\n",
       "    </tr>\n",
       "  </tbody>\n",
       "</table>\n",
       "</div>"
      ],
      "text/plain": [
       "   n_individu  n_barang  a  b  alpha  beta  max_generasi      presentase  lim\n",
       "0          25        54 -1  1      1     1            50  0.20|0.25|0.55   15\n",
       "1          25        54 -1  1      1     1            50  0.20|0.25|0.55   15\n",
       "2          25        54 -1  1      1     1            50  0.20|0.25|0.55   15"
      ]
     },
     "execution_count": 33,
     "metadata": {},
     "output_type": "execute_result"
    }
   ],
   "source": [
    "ABC_paramsdict_KP = pd.DataFrame(dfparamsdict)\n",
    "ABC_paramsdict_KP"
   ]
  },
  {
   "cell_type": "markdown",
   "id": "e6995a07-80d3-40af-a1dc-635ac45524d0",
   "metadata": {
    "tags": []
   },
   "source": [
    "# Analisis\n",
    "analisis berkali-kali (Mencari solusi terbaik)\n",
    "\n",
    "Mencari Profit tertinggi berdasarkan nilai limit dan jumlah individu (n_indvidu)\n",
    "\n",
    "solusi untuk mengkategorikan atau menentukan jenis-jenis alpukat unggulan yang memiliki profit atau keuntungan, sehingga dapat diketahui jenis alpukat mana yang paling sedikit hingga yang paling banyak memberi keuntungan."
   ]
  },
  {
   "cell_type": "raw",
   "id": "76255148-b9f9-4ecc-bd41-a99d940a0b6c",
   "metadata": {
    "tags": []
   },
   "source": [
    "parameter-parameter yang diamati:\n",
    "1. n_individu\n",
    "2. alpha\n",
    "3. beta\n",
    "4. presentase\n",
    "5. max_generasi\n",
    "\n",
    "Dengan metode percobaan ketika n_individu telah didapatkan profit tertinggi maka n_individu tersebut akan digunakan ke percobaan parameter selanjutnya. Lalu dengan n_individu profit tertinggi dilakukan percobaan presentase yang berbeda, kemudian presentase dengan profit tertinggi digunakan. Seterusnya sampai max_iterasi\n",
    "\n",
    "- Percobaan 1 \n",
    "n_individu = 100, presentase = 0.10|0.35|0.55, alpha = 10, beta = 10, max_iterasi = 50\n",
    "\n",
    "- Percobaan 2\n",
    "n_individu = 200, presentase = 0.10|0.35|0.55, alpha = 10, beta = 10, max_iterasi = 50\n",
    "\n",
    "- Percobaan 3\n",
    "n_individu = 300, presentase = 0.10|0.35|0.55, alpha = 10, beta = 10, max_iterasi = 50\n",
    "\n",
    "- Percobaan 4\n",
    "n_individu = 400, presentase = 0.10|0.35|0.55, alpha = 10, beta = 10, max_iterasi = 50\n",
    "\n",
    "- Percobaan 5\n",
    "n_individu = 400, presentase = 0.35|0.55|0.10, alpha = 10, beta = 10, max_iterasi = 50\n",
    "\n",
    "- Percobaan 6\n",
    "n_individu = 400, presentase = 0.55|0.10|0.35, alpha = 10, beta = 10, max_iterasi = 50\n",
    "\n",
    "- Percobaan 7\n",
    "n_individu = 400, presentase = 0.10|0.35|0.55, alpha = 8, beta = 8, max_iterasi = 50\n",
    "\n",
    "- Percobaan 8\n",
    "n_individu = 400, presentase = 0.10|0.35|0.55, alpha = 4, beta = 4, max_iterasi = 50\n",
    "\n",
    "- Percobaan 9\n",
    "n_individu = 400, presentase = 0.10|0.35|0.55, alpha = 6, beta = 6, max_iterasi = 50\n",
    "\n",
    "- Percobaan 10\n",
    "n_individu = 400, presentase = 0.10|0.35|0.55, alpha = 2, beta = 2, max_iterasi = 50\n",
    "\n",
    "- Percobaan 11\n",
    "n_individu = 400, presentase = 0.10|0.35|0.55, alpha = 2, beta = 2, max_iterasi = 100\n",
    "\n",
    "- Percobaan 12\n",
    "n_individu = 400, presentase = 0.10|0.35|0.55, alpha = 2, beta = 2, max_iterasi = 150\n",
    "\n",
    "- Percobaan 13\n",
    "n_individu = 400, presentase = 0.10|0.35|0.55, alpha = 2, beta = 2, max_iterasi = 200"
   ]
  },
  {
   "cell_type": "code",
   "execution_count": 1227,
   "id": "1dab440c-3726-496d-a516-d6da1472286d",
   "metadata": {},
   "outputs": [],
   "source": [
    "def save_BCO(hasils):\n",
    "  for h in enumerate(hasils):\n",
    "    pd.DataFrame(h[1]).to_csv('./hasilrevisi/percobaan12_' + str(h[0]) + '.csv')"
   ]
  },
  {
   "cell_type": "code",
   "execution_count": 1192,
   "id": "af6e1380-4494-4527-8843-81798a697672",
   "metadata": {},
   "outputs": [],
   "source": [
    "# Main Program\n",
    "\n",
    "individu_1 = 100\n",
    "individu_2 = 200\n",
    "individu_3 = 300\n",
    "individu_4 = 400\n",
    "alpha_1 = 2\n",
    "alpha_2 = 4\n",
    "alpha_3 = 6\n",
    "alpha_4 = 8\n",
    "alpha_5 = 10\n",
    "beta_1  = 2\n",
    "beta_2  = 4\n",
    "beta_3  = 6\n",
    "beta_4  = 8\n",
    "beta_5  = 10\n",
    "presentase_1 = '0.10|0.35|0.55'\n",
    "presentase_2 = '0.35|0.55|0.10'\n",
    "presentase_3 = '0.55|0.10|0.35'\n",
    "max_generasi_1 = 50\n",
    "max_generasi_2 = 100\n",
    "max_generasi_3 = 150\n",
    "max_generasi_4 = 200\n",
    "\n",
    "def main_program(individu, alpha, beta, presentase, max_generasi ):\n",
    "    dfparamss = pd.read_csv('ABC_params_KP.csv')\n",
    "    dfparamss['n_individu'] = individu \n",
    "    dfparamss['alpha'] = alpha\n",
    "    dfparamss['beta'] = beta\n",
    "    dfparamss['max_generasi'] = max_generasi\n",
    "\n",
    "    dfparamss = dfparamss.drop('Unnamed: 0', axis='columns')\n",
    "    dfparamss['presentase'] = presentase\n",
    "\n",
    "    return dfparamss\n",
    "\n",
    "dfparamsdict = main_program( individu_4, alpha_1, beta_1, presentase_1, max_generasi_3 )"
   ]
  },
  {
   "cell_type": "code",
   "execution_count": 1193,
   "id": "81ed3a91-faba-41c3-b11a-f3a4e91df0a1",
   "metadata": {},
   "outputs": [
    {
     "data": {
      "text/html": [
       "<div>\n",
       "<style scoped>\n",
       "    .dataframe tbody tr th:only-of-type {\n",
       "        vertical-align: middle;\n",
       "    }\n",
       "\n",
       "    .dataframe tbody tr th {\n",
       "        vertical-align: top;\n",
       "    }\n",
       "\n",
       "    .dataframe thead th {\n",
       "        text-align: right;\n",
       "    }\n",
       "</style>\n",
       "<table border=\"1\" class=\"dataframe\">\n",
       "  <thead>\n",
       "    <tr style=\"text-align: right;\">\n",
       "      <th></th>\n",
       "      <th>n_individu</th>\n",
       "      <th>n_barang</th>\n",
       "      <th>a</th>\n",
       "      <th>b</th>\n",
       "      <th>alpha</th>\n",
       "      <th>beta</th>\n",
       "      <th>max_generasi</th>\n",
       "      <th>presentase</th>\n",
       "      <th>lim</th>\n",
       "    </tr>\n",
       "  </thead>\n",
       "  <tbody>\n",
       "    <tr>\n",
       "      <th>0</th>\n",
       "      <td>400</td>\n",
       "      <td>54</td>\n",
       "      <td>-1</td>\n",
       "      <td>1</td>\n",
       "      <td>2</td>\n",
       "      <td>2</td>\n",
       "      <td>150</td>\n",
       "      <td>0.10|0.35|0.55</td>\n",
       "      <td>15</td>\n",
       "    </tr>\n",
       "    <tr>\n",
       "      <th>1</th>\n",
       "      <td>400</td>\n",
       "      <td>54</td>\n",
       "      <td>-1</td>\n",
       "      <td>1</td>\n",
       "      <td>2</td>\n",
       "      <td>2</td>\n",
       "      <td>150</td>\n",
       "      <td>0.10|0.35|0.55</td>\n",
       "      <td>15</td>\n",
       "    </tr>\n",
       "    <tr>\n",
       "      <th>2</th>\n",
       "      <td>400</td>\n",
       "      <td>54</td>\n",
       "      <td>-1</td>\n",
       "      <td>1</td>\n",
       "      <td>2</td>\n",
       "      <td>2</td>\n",
       "      <td>150</td>\n",
       "      <td>0.10|0.35|0.55</td>\n",
       "      <td>15</td>\n",
       "    </tr>\n",
       "  </tbody>\n",
       "</table>\n",
       "</div>"
      ],
      "text/plain": [
       "   n_individu  n_barang  a  b  alpha  beta  max_generasi      presentase  lim\n",
       "0         400        54 -1  1      2     2           150  0.10|0.35|0.55   15\n",
       "1         400        54 -1  1      2     2           150  0.10|0.35|0.55   15\n",
       "2         400        54 -1  1      2     2           150  0.10|0.35|0.55   15"
      ]
     },
     "execution_count": 1193,
     "metadata": {},
     "output_type": "execute_result"
    }
   ],
   "source": [
    "ABC_paramsdict_KP = pd.DataFrame(dfparamsdict)\n",
    "ABC_paramsdict_KP"
   ]
  },
  {
   "cell_type": "code",
   "execution_count": 1216,
   "id": "7d4ec503-e127-4178-8acf-5562fc08e16e",
   "metadata": {
    "tags": []
   },
   "outputs": [
    {
     "data": {
      "text/plain": [
       "Series([], Name: Harga, dtype: float64)"
      ]
     },
     "execution_count": 1216,
     "metadata": {},
     "output_type": "execute_result"
    }
   ],
   "source": [
    "h1 = hasil1[0][hasil1[0]['Harga']>0]\n",
    "h1['Harga'].head(1)"
   ]
  },
  {
   "cell_type": "code",
   "execution_count": 1217,
   "id": "eab6e7c1-167f-493f-8452-e7d222ba59cf",
   "metadata": {},
   "outputs": [
    {
     "data": {
      "text/plain": [
       "Series([], Name: Harga, dtype: float64)"
      ]
     },
     "execution_count": 1217,
     "metadata": {},
     "output_type": "execute_result"
    }
   ],
   "source": [
    "h1 = hasil1[1][hasil1[1]['Harga']>0]\n",
    "h1['Harga'].head(1)"
   ]
  },
  {
   "cell_type": "code",
   "execution_count": 1218,
   "id": "ba5e0bbe-01fa-4fd8-a88b-afaa77e1d261",
   "metadata": {},
   "outputs": [
    {
     "data": {
      "text/plain": [
       "Series([], Name: Harga, dtype: float64)"
      ]
     },
     "execution_count": 1218,
     "metadata": {},
     "output_type": "execute_result"
    }
   ],
   "source": [
    "h1 = hasil1[2][hasil1[2]['Harga']>0]\n",
    "h1['Harga'].head(1)"
   ]
  },
  {
   "cell_type": "code",
   "execution_count": 1219,
   "id": "2f2c67e6-9622-4329-b40b-e0dc60d12894",
   "metadata": {},
   "outputs": [],
   "source": [
    "hasil2 = run_BCO(ABC_paramsdict_KP ,df)"
   ]
  },
  {
   "cell_type": "code",
   "execution_count": 1220,
   "id": "71172c78-5a46-4915-b965-0da3bfc02ece",
   "metadata": {},
   "outputs": [
    {
     "data": {
      "text/plain": [
       "0    588500.0\n",
       "Name: Harga, dtype: float64"
      ]
     },
     "execution_count": 1220,
     "metadata": {},
     "output_type": "execute_result"
    }
   ],
   "source": [
    "h2 = hasil2[0][hasil2[0]['Harga']>0]\n",
    "h2['Harga'].head(1)"
   ]
  },
  {
   "cell_type": "code",
   "execution_count": 1221,
   "id": "10e241de-4a4b-4d55-abae-372160b2d19d",
   "metadata": {},
   "outputs": [
    {
     "data": {
      "text/plain": [
       "Series([], Name: Harga, dtype: float64)"
      ]
     },
     "execution_count": 1221,
     "metadata": {},
     "output_type": "execute_result"
    }
   ],
   "source": [
    "h2 = hasil2[1][hasil2[1]['Harga']>0]\n",
    "h2['Harga'].head(1)"
   ]
  },
  {
   "cell_type": "code",
   "execution_count": 1222,
   "id": "95332d4b-80a8-46c1-83ca-417b19581628",
   "metadata": {},
   "outputs": [
    {
     "data": {
      "text/plain": [
       "Series([], Name: Harga, dtype: float64)"
      ]
     },
     "execution_count": 1222,
     "metadata": {},
     "output_type": "execute_result"
    }
   ],
   "source": [
    "h2 = hasil2[2][hasil2[2]['Harga']>0]\n",
    "h2['Harga'].head(1)"
   ]
  },
  {
   "cell_type": "code",
   "execution_count": 1223,
   "id": "4c5d5433-cd4f-48c4-a708-ad18309217a9",
   "metadata": {},
   "outputs": [],
   "source": [
    "hasil3 = run_BCO(ABC_paramsdict_KP ,df)"
   ]
  },
  {
   "cell_type": "code",
   "execution_count": 1224,
   "id": "fa3aaf79-23de-4f43-8520-ab120ee0c914",
   "metadata": {},
   "outputs": [
    {
     "data": {
      "text/plain": [
       "Series([], Name: Harga, dtype: float64)"
      ]
     },
     "execution_count": 1224,
     "metadata": {},
     "output_type": "execute_result"
    }
   ],
   "source": [
    "h3 = hasil3[0][hasil3[0]['Harga']>0]\n",
    "h3['Harga'].head(1)"
   ]
  },
  {
   "cell_type": "code",
   "execution_count": 1225,
   "id": "9e2eed46-2ace-4fcc-acb5-0516ff2aae4b",
   "metadata": {},
   "outputs": [
    {
     "data": {
      "text/plain": [
       "Series([], Name: Harga, dtype: float64)"
      ]
     },
     "execution_count": 1225,
     "metadata": {},
     "output_type": "execute_result"
    }
   ],
   "source": [
    "h3 = hasil3[1][hasil3[1]['Harga']>0]\n",
    "h3['Harga'].head(1)"
   ]
  },
  {
   "cell_type": "code",
   "execution_count": 1226,
   "id": "842586bb-1d83-42ea-94ac-068c309dfb2a",
   "metadata": {},
   "outputs": [
    {
     "data": {
      "text/plain": [
       "0    445500.0\n",
       "Name: Harga, dtype: float64"
      ]
     },
     "execution_count": 1226,
     "metadata": {},
     "output_type": "execute_result"
    }
   ],
   "source": [
    "h3 = hasil3[2][hasil3[2]['Harga']>0]\n",
    "h3['Harga'].head(1)"
   ]
  },
  {
   "cell_type": "code",
   "execution_count": 1228,
   "id": "b39abed3-9ae4-4b1b-8a40-6c2ae98192f8",
   "metadata": {},
   "outputs": [],
   "source": [
    "save_BCO(hasil2)"
   ]
  },
  {
   "cell_type": "markdown",
   "id": "d031c9b6-7dad-4f3f-8489-f14252c73ff8",
   "metadata": {
    "tags": []
   },
   "source": [
    "# Visulalisasi"
   ]
  },
  {
   "cell_type": "markdown",
   "id": "4a62140b-831c-4f83-a95b-bb11935a1cbb",
   "metadata": {},
   "source": [
    "- Percobaan 1"
   ]
  },
  {
   "cell_type": "code",
   "execution_count": 1229,
   "id": "e15c5ad4-35bd-4237-bbd2-88a0c3073bf4",
   "metadata": {},
   "outputs": [
    {
     "name": "stderr",
     "output_type": "stream",
     "text": [
      "C:\\Users\\micha\\AppData\\Local\\Temp/ipykernel_30232/3639939078.py:2: FutureWarning: In a future version of pandas all arguments of DataFrame.drop except for the argument 'labels' will be keyword-only.\n",
      "  df1 = df1.drop(['Unnamed: 0'], 1)\n"
     ]
    },
    {
     "data": {
      "text/plain": [
       "Nama Bahan Pangan1          0.0\n",
       "Nama Bahan Pangan2          1.0\n",
       "Nama Bahan Pangan3          0.0\n",
       "Nama Bahan Pangan4          1.0\n",
       "Nama Bahan Pangan5          0.0\n",
       "Nama Bahan Pangan6          0.0\n",
       "Nama Bahan Pangan7          0.0\n",
       "Nama Bahan Pangan8          0.0\n",
       "Nama Bahan Pangan9          1.0\n",
       "Nama Bahan Pangan10         0.0\n",
       "Nama Bahan Pangan11         0.0\n",
       "Nama Bahan Pangan12         1.0\n",
       "Nama Bahan Pangan13         0.0\n",
       "Nama Bahan Pangan14         1.0\n",
       "Nama Bahan Pangan15         0.0\n",
       "Nama Bahan Pangan16         1.0\n",
       "Nama Bahan Pangan17         1.0\n",
       "Nama Bahan Pangan18         0.0\n",
       "Nama Bahan Pangan19         0.0\n",
       "Nama Bahan Pangan20         0.0\n",
       "Nama Bahan Pangan21         0.0\n",
       "Nama Bahan Pangan22         1.0\n",
       "Nama Bahan Pangan23         0.0\n",
       "Nama Bahan Pangan24         0.0\n",
       "Nama Bahan Pangan25         0.0\n",
       "Nama Bahan Pangan26         0.0\n",
       "Nama Bahan Pangan27         0.0\n",
       "Nama Bahan Pangan28         0.0\n",
       "Nama Bahan Pangan29         0.0\n",
       "Nama Bahan Pangan30         0.0\n",
       "Nama Bahan Pangan31         1.0\n",
       "Nama Bahan Pangan32         0.0\n",
       "Nama Bahan Pangan33         0.0\n",
       "Nama Bahan Pangan34         0.0\n",
       "Nama Bahan Pangan35         1.0\n",
       "Nama Bahan Pangan36         1.0\n",
       "Nama Bahan Pangan37         0.0\n",
       "Nama Bahan Pangan38         1.0\n",
       "Nama Bahan Pangan39         0.0\n",
       "Nama Bahan Pangan40         1.0\n",
       "Nama Bahan Pangan41         1.0\n",
       "Nama Bahan Pangan42         0.0\n",
       "Nama Bahan Pangan43         1.0\n",
       "Nama Bahan Pangan44         0.0\n",
       "Nama Bahan Pangan45         0.0\n",
       "Nama Bahan Pangan46         1.0\n",
       "Nama Bahan Pangan47         0.0\n",
       "Nama Bahan Pangan48         0.0\n",
       "Nama Bahan Pangan49         0.0\n",
       "Nama Bahan Pangan50         0.0\n",
       "Nama Bahan Pangan51         0.0\n",
       "Nama Bahan Pangan52         0.0\n",
       "Nama Bahan Pangan53         0.0\n",
       "Nama Bahan Pangan54         0.0\n",
       "Harga                  477600.0\n",
       "Name: 0, dtype: float64"
      ]
     },
     "execution_count": 1229,
     "metadata": {},
     "output_type": "execute_result"
    }
   ],
   "source": [
    "df1 = pd.read_csv('./hasilrevisi/percobaan1_1.csv')\n",
    "df1 = df1.drop(['Unnamed: 0'], 1)\n",
    "df1 = df1[df1['Harga']>0].tail().loc[0]\n",
    "df1"
   ]
  },
  {
   "cell_type": "code",
   "execution_count": 1230,
   "id": "a30f74ab-768a-45ba-a95b-a69a5ba0bf7e",
   "metadata": {},
   "outputs": [
    {
     "data": {
      "text/plain": [
       "Nama Bahan Pangan1     False\n",
       "Nama Bahan Pangan2      True\n",
       "Nama Bahan Pangan3     False\n",
       "Nama Bahan Pangan4      True\n",
       "Nama Bahan Pangan5     False\n",
       "Nama Bahan Pangan6     False\n",
       "Nama Bahan Pangan7     False\n",
       "Nama Bahan Pangan8     False\n",
       "Nama Bahan Pangan9      True\n",
       "Nama Bahan Pangan10    False\n",
       "Nama Bahan Pangan11    False\n",
       "Nama Bahan Pangan12     True\n",
       "Nama Bahan Pangan13    False\n",
       "Nama Bahan Pangan14     True\n",
       "Nama Bahan Pangan15    False\n",
       "Nama Bahan Pangan16     True\n",
       "Nama Bahan Pangan17     True\n",
       "Nama Bahan Pangan18    False\n",
       "Nama Bahan Pangan19    False\n",
       "Nama Bahan Pangan20    False\n",
       "Nama Bahan Pangan21    False\n",
       "Nama Bahan Pangan22     True\n",
       "Nama Bahan Pangan23    False\n",
       "Nama Bahan Pangan24    False\n",
       "Nama Bahan Pangan25    False\n",
       "Nama Bahan Pangan26    False\n",
       "Nama Bahan Pangan27    False\n",
       "Nama Bahan Pangan28    False\n",
       "Nama Bahan Pangan29    False\n",
       "Nama Bahan Pangan30    False\n",
       "Nama Bahan Pangan31     True\n",
       "Nama Bahan Pangan32    False\n",
       "Nama Bahan Pangan33    False\n",
       "Nama Bahan Pangan34    False\n",
       "Nama Bahan Pangan35     True\n",
       "Nama Bahan Pangan36     True\n",
       "Nama Bahan Pangan37    False\n",
       "Nama Bahan Pangan38     True\n",
       "Nama Bahan Pangan39    False\n",
       "Nama Bahan Pangan40     True\n",
       "Nama Bahan Pangan41     True\n",
       "Nama Bahan Pangan42    False\n",
       "Nama Bahan Pangan43     True\n",
       "Nama Bahan Pangan44    False\n",
       "Nama Bahan Pangan45    False\n",
       "Nama Bahan Pangan46     True\n",
       "Nama Bahan Pangan47    False\n",
       "Nama Bahan Pangan48    False\n",
       "Nama Bahan Pangan49    False\n",
       "Nama Bahan Pangan50    False\n",
       "Nama Bahan Pangan51    False\n",
       "Nama Bahan Pangan52    False\n",
       "Nama Bahan Pangan53    False\n",
       "Nama Bahan Pangan54    False\n",
       "Harga                  False\n",
       "Name: 0, dtype: bool"
      ]
     },
     "execution_count": 1230,
     "metadata": {},
     "output_type": "execute_result"
    }
   ],
   "source": [
    "idx_d = df1.apply( lambda x: x==1)\n",
    "idx_d"
   ]
  },
  {
   "cell_type": "code",
   "execution_count": 1231,
   "id": "8c19a5f7-202d-48bb-bfc2-daa6a92539d4",
   "metadata": {},
   "outputs": [
    {
     "data": {
      "text/plain": [
       "Bahan Pangan     7\n",
       "Ikan             5\n",
       "Sayur            2\n",
       "Daging           1\n",
       "Rempah-Rempah    1\n",
       "Name: Kategori, dtype: int64"
      ]
     },
     "execution_count": 1231,
     "metadata": {},
     "output_type": "execute_result"
    }
   ],
   "source": [
    "dfres = df[idx_d[:-1].values]\n",
    "dfres['Kategori'].value_counts()"
   ]
  },
  {
   "cell_type": "code",
   "execution_count": 1236,
   "id": "080b541c-5b92-4eed-9dbb-61a3f44fb1f9",
   "metadata": {},
   "outputs": [
    {
     "data": {
      "image/png": "[encoded data removed]",
      "text/plain": [
       "<Figure size 432x288 with 1 Axes>"
      ]
     },
     "metadata": {},
     "output_type": "display_data"
    }
   ],
   "source": [
    "labels = ['Bahan Pangan', 'Buah', 'Ikan', 'Daging', 'Rempah-Rempah', 'Sayur']\n",
    "percents = [7,0,5,1,1,2]\n",
    "\n",
    "explode = (0, 0, 0, 0, 0, 0)\n",
    "fig1, ax1 = plt.subplots()\n",
    "ax1.pie(percents, explode=explode, labels=labels, autopct='%1.1f%%', shadow=True, startangle=90)\n",
    "ax1.axis('equal')\n",
    "ax1.set_title('Percobaan 1', fontsize=14)\n",
    "plt.show()"
   ]
  },
  {
   "cell_type": "markdown",
   "id": "a3d58171-80f3-4fe0-a048-d0db1244dc94",
   "metadata": {},
   "source": [
    "- Percobaan 2"
   ]
  },
  {
   "cell_type": "code",
   "execution_count": 1237,
   "id": "2db0f337-abbd-4a47-82a4-af04766364b3",
   "metadata": {},
   "outputs": [
    {
     "name": "stderr",
     "output_type": "stream",
     "text": [
      "C:\\Users\\micha\\AppData\\Local\\Temp/ipykernel_30232/4019564728.py:2: FutureWarning: In a future version of pandas all arguments of DataFrame.drop except for the argument 'labels' will be keyword-only.\n",
      "  df2 = df2.drop(['Unnamed: 0'], 1)\n"
     ]
    },
    {
     "data": {
      "text/plain": [
       "Nama Bahan Pangan1          0.0\n",
       "Nama Bahan Pangan2          0.0\n",
       "Nama Bahan Pangan3          0.0\n",
       "Nama Bahan Pangan4          0.0\n",
       "Nama Bahan Pangan5          0.0\n",
       "Nama Bahan Pangan6          1.0\n",
       "Nama Bahan Pangan7          1.0\n",
       "Nama Bahan Pangan8          0.0\n",
       "Nama Bahan Pangan9          0.0\n",
       "Nama Bahan Pangan10         0.0\n",
       "Nama Bahan Pangan11         1.0\n",
       "Nama Bahan Pangan12         0.0\n",
       "Nama Bahan Pangan13         0.0\n",
       "Nama Bahan Pangan14         0.0\n",
       "Nama Bahan Pangan15         0.0\n",
       "Nama Bahan Pangan16         1.0\n",
       "Nama Bahan Pangan17         1.0\n",
       "Nama Bahan Pangan18         1.0\n",
       "Nama Bahan Pangan19         0.0\n",
       "Nama Bahan Pangan20         0.0\n",
       "Nama Bahan Pangan21         1.0\n",
       "Nama Bahan Pangan22         0.0\n",
       "Nama Bahan Pangan23         0.0\n",
       "Nama Bahan Pangan24         0.0\n",
       "Nama Bahan Pangan25         0.0\n",
       "Nama Bahan Pangan26         0.0\n",
       "Nama Bahan Pangan27         0.0\n",
       "Nama Bahan Pangan28         0.0\n",
       "Nama Bahan Pangan29         1.0\n",
       "Nama Bahan Pangan30         0.0\n",
       "Nama Bahan Pangan31         0.0\n",
       "Nama Bahan Pangan32         0.0\n",
       "Nama Bahan Pangan33         1.0\n",
       "Nama Bahan Pangan34         1.0\n",
       "Nama Bahan Pangan35         1.0\n",
       "Nama Bahan Pangan36         0.0\n",
       "Nama Bahan Pangan37         0.0\n",
       "Nama Bahan Pangan38         0.0\n",
       "Nama Bahan Pangan39         0.0\n",
       "Nama Bahan Pangan40         1.0\n",
       "Nama Bahan Pangan41         1.0\n",
       "Nama Bahan Pangan42         0.0\n",
       "Nama Bahan Pangan43         1.0\n",
       "Nama Bahan Pangan44         0.0\n",
       "Nama Bahan Pangan45         0.0\n",
       "Nama Bahan Pangan46         0.0\n",
       "Nama Bahan Pangan47         0.0\n",
       "Nama Bahan Pangan48         0.0\n",
       "Nama Bahan Pangan49         0.0\n",
       "Nama Bahan Pangan50         0.0\n",
       "Nama Bahan Pangan51         0.0\n",
       "Nama Bahan Pangan52         0.0\n",
       "Nama Bahan Pangan53         0.0\n",
       "Nama Bahan Pangan54         0.0\n",
       "Harga                  577500.0\n",
       "Name: 0, dtype: float64"
      ]
     },
     "execution_count": 1237,
     "metadata": {},
     "output_type": "execute_result"
    }
   ],
   "source": [
    "df2 = pd.read_csv('./hasilrevisi/percobaan2_0.csv')\n",
    "df2 = df2.drop(['Unnamed: 0'], 1)\n",
    "df2 = df2[df2['Harga']>0].tail().loc[0]\n",
    "df2"
   ]
  },
  {
   "cell_type": "code",
   "execution_count": 1239,
   "id": "06a6db4a-c14f-4d9d-8c7e-b2e3f12fe3b8",
   "metadata": {},
   "outputs": [
    {
     "data": {
      "text/plain": [
       "Bahan Pangan     5\n",
       "Ikan             4\n",
       "Daging           2\n",
       "Rempah-Rempah    2\n",
       "Sayur            1\n",
       "Name: Kategori, dtype: int64"
      ]
     },
     "execution_count": 1239,
     "metadata": {},
     "output_type": "execute_result"
    }
   ],
   "source": [
    "idx_d = df2.apply( lambda x: x==1)\n",
    "idx_d\n",
    "\n",
    "dfres = df[idx_d[:-1].values]\n",
    "dfres['Kategori'].value_counts()"
   ]
  },
  {
   "cell_type": "code",
   "execution_count": 1240,
   "id": "69b84f0b-a6fe-41a1-867c-8a9d6ff24302",
   "metadata": {},
   "outputs": [
    {
     "data": {
      "image/png": "[encoded data removed]",
      "text/plain": [
       "<Figure size 432x288 with 1 Axes>"
      ]
     },
     "metadata": {},
     "output_type": "display_data"
    }
   ],
   "source": [
    "labels = ['Bahan Pangan', 'Buah', 'Ikan', 'Daging', 'Rempah-Rempah', 'Sayur']\n",
    "percents = [5,0,4,2,2,1]\n",
    "\n",
    "explode = (0, 0, 0, 0, 0, 0)\n",
    "fig1, ax1 = plt.subplots()\n",
    "ax1.pie(percents, explode=explode, labels=labels, autopct='%1.1f%%', shadow=True, startangle=90)\n",
    "ax1.axis('equal')\n",
    "ax1.set_title('Percobaan 2', fontsize=14)\n",
    "plt.show()"
   ]
  },
  {
   "cell_type": "markdown",
   "id": "47dc9f24-75a7-4e03-9cb5-9298c5188772",
   "metadata": {},
   "source": [
    "- Percobaan 3"
   ]
  },
  {
   "cell_type": "code",
   "execution_count": 1248,
   "id": "9fda3a8d-a04b-4a11-9656-4089c0c8415d",
   "metadata": {},
   "outputs": [
    {
     "name": "stderr",
     "output_type": "stream",
     "text": [
      "C:\\Users\\micha\\AppData\\Local\\Temp/ipykernel_30232/1988439733.py:2: FutureWarning: In a future version of pandas all arguments of DataFrame.drop except for the argument 'labels' will be keyword-only.\n",
      "  df3 = df3.drop(['Unnamed: 0'], 1)\n"
     ]
    },
    {
     "data": {
      "text/plain": [
       "Nama Bahan Pangan1          1.0\n",
       "Nama Bahan Pangan2          0.0\n",
       "Nama Bahan Pangan3          0.0\n",
       "Nama Bahan Pangan4          1.0\n",
       "Nama Bahan Pangan5          0.0\n",
       "Nama Bahan Pangan6          0.0\n",
       "Nama Bahan Pangan7          0.0\n",
       "Nama Bahan Pangan8          0.0\n",
       "Nama Bahan Pangan9          0.0\n",
       "Nama Bahan Pangan10         0.0\n",
       "Nama Bahan Pangan11         0.0\n",
       "Nama Bahan Pangan12         0.0\n",
       "Nama Bahan Pangan13         0.0\n",
       "Nama Bahan Pangan14         0.0\n",
       "Nama Bahan Pangan15         0.0\n",
       "Nama Bahan Pangan16         0.0\n",
       "Nama Bahan Pangan17         1.0\n",
       "Nama Bahan Pangan18         1.0\n",
       "Nama Bahan Pangan19         1.0\n",
       "Nama Bahan Pangan20         1.0\n",
       "Nama Bahan Pangan21         0.0\n",
       "Nama Bahan Pangan22         1.0\n",
       "Nama Bahan Pangan23         0.0\n",
       "Nama Bahan Pangan24         0.0\n",
       "Nama Bahan Pangan25         0.0\n",
       "Nama Bahan Pangan26         0.0\n",
       "Nama Bahan Pangan27         0.0\n",
       "Nama Bahan Pangan28         0.0\n",
       "Nama Bahan Pangan29         0.0\n",
       "Nama Bahan Pangan30         1.0\n",
       "Nama Bahan Pangan31         0.0\n",
       "Nama Bahan Pangan32         1.0\n",
       "Nama Bahan Pangan33         0.0\n",
       "Nama Bahan Pangan34         0.0\n",
       "Nama Bahan Pangan35         0.0\n",
       "Nama Bahan Pangan36         1.0\n",
       "Nama Bahan Pangan37         0.0\n",
       "Nama Bahan Pangan38         1.0\n",
       "Nama Bahan Pangan39         1.0\n",
       "Nama Bahan Pangan40         0.0\n",
       "Nama Bahan Pangan41         0.0\n",
       "Nama Bahan Pangan42         0.0\n",
       "Nama Bahan Pangan43         1.0\n",
       "Nama Bahan Pangan44         0.0\n",
       "Nama Bahan Pangan45         1.0\n",
       "Nama Bahan Pangan46         0.0\n",
       "Nama Bahan Pangan47         0.0\n",
       "Nama Bahan Pangan48         0.0\n",
       "Nama Bahan Pangan49         0.0\n",
       "Nama Bahan Pangan50         0.0\n",
       "Nama Bahan Pangan51         0.0\n",
       "Nama Bahan Pangan52         0.0\n",
       "Nama Bahan Pangan53         1.0\n",
       "Nama Bahan Pangan54         0.0\n",
       "Harga                  621800.0\n",
       "Name: 0, dtype: float64"
      ]
     },
     "execution_count": 1248,
     "metadata": {},
     "output_type": "execute_result"
    }
   ],
   "source": [
    "df3 = pd.read_csv('./hasilrevisi/percobaan3_2.csv')\n",
    "df3 = df3.drop(['Unnamed: 0'], 1)\n",
    "df3 = df3[df3['Harga']>0].tail().loc[0]\n",
    "df3"
   ]
  },
  {
   "cell_type": "code",
   "execution_count": 1249,
   "id": "8ca70b28-9fff-4925-81ca-c79b7ab8c4da",
   "metadata": {},
   "outputs": [
    {
     "data": {
      "text/plain": [
       "Daging           4\n",
       "Bahan Pangan     3\n",
       "Ikan             3\n",
       "Rempah-Rempah    2\n",
       "Sayur            2\n",
       "Buah             1\n",
       "Name: Kategori, dtype: int64"
      ]
     },
     "execution_count": 1249,
     "metadata": {},
     "output_type": "execute_result"
    }
   ],
   "source": [
    "idx_d = df3.apply( lambda x: x==1)\n",
    "idx_d\n",
    "\n",
    "dfres = df[idx_d[:-1].values]\n",
    "dfres['Kategori'].value_counts()"
   ]
  },
  {
   "cell_type": "code",
   "execution_count": 1250,
   "id": "e510c81f-41ff-41e0-b5bf-3b450e211f39",
   "metadata": {},
   "outputs": [
    {
     "data": {
      "image/png": "[encoded data removed]",
      "text/plain": [
       "<Figure size 432x288 with 1 Axes>"
      ]
     },
     "metadata": {},
     "output_type": "display_data"
    }
   ],
   "source": [
    "labels = ['Bahan Pangan', 'Buah', 'Ikan', 'Daging', 'Rempah-Rempah', 'Sayur']\n",
    "percents = [3,1,3,4,2,2]\n",
    "\n",
    "explode = (0, 0, 0, 0, 0, 0)\n",
    "fig1, ax1 = plt.subplots()\n",
    "ax1.pie(percents, explode=explode, labels=labels, autopct='%1.1f%%', shadow=True, startangle=90)\n",
    "ax1.axis('equal')\n",
    "ax1.set_title('Percobaan 3', fontsize=14)\n",
    "plt.show()"
   ]
  },
  {
   "cell_type": "markdown",
   "id": "09754ab6-9f54-451c-8d3c-c8c251bf351b",
   "metadata": {},
   "source": [
    "- Percobaan 4"
   ]
  },
  {
   "cell_type": "code",
   "execution_count": 1251,
   "id": "d5362f76-9165-4656-a808-5e256f99aba9",
   "metadata": {},
   "outputs": [
    {
     "name": "stderr",
     "output_type": "stream",
     "text": [
      "C:\\Users\\micha\\AppData\\Local\\Temp/ipykernel_30232/2409974954.py:2: FutureWarning: In a future version of pandas all arguments of DataFrame.drop except for the argument 'labels' will be keyword-only.\n",
      "  df3 = df3.drop(['Unnamed: 0'], 1)\n"
     ]
    },
    {
     "data": {
      "text/plain": [
       "Nama Bahan Pangan1          0.0\n",
       "Nama Bahan Pangan2          0.0\n",
       "Nama Bahan Pangan3          0.0\n",
       "Nama Bahan Pangan4          0.0\n",
       "Nama Bahan Pangan5          0.0\n",
       "Nama Bahan Pangan6          0.0\n",
       "Nama Bahan Pangan7          0.0\n",
       "Nama Bahan Pangan8          0.0\n",
       "Nama Bahan Pangan9          0.0\n",
       "Nama Bahan Pangan10         0.0\n",
       "Nama Bahan Pangan11         1.0\n",
       "Nama Bahan Pangan12         1.0\n",
       "Nama Bahan Pangan13         1.0\n",
       "Nama Bahan Pangan14         0.0\n",
       "Nama Bahan Pangan15         0.0\n",
       "Nama Bahan Pangan16         0.0\n",
       "Nama Bahan Pangan17         0.0\n",
       "Nama Bahan Pangan18         1.0\n",
       "Nama Bahan Pangan19         0.0\n",
       "Nama Bahan Pangan20         1.0\n",
       "Nama Bahan Pangan21         1.0\n",
       "Nama Bahan Pangan22         1.0\n",
       "Nama Bahan Pangan23         0.0\n",
       "Nama Bahan Pangan24         0.0\n",
       "Nama Bahan Pangan25         0.0\n",
       "Nama Bahan Pangan26         1.0\n",
       "Nama Bahan Pangan27         0.0\n",
       "Nama Bahan Pangan28         0.0\n",
       "Nama Bahan Pangan29         0.0\n",
       "Nama Bahan Pangan30         1.0\n",
       "Nama Bahan Pangan31         1.0\n",
       "Nama Bahan Pangan32         0.0\n",
       "Nama Bahan Pangan33         0.0\n",
       "Nama Bahan Pangan34         1.0\n",
       "Nama Bahan Pangan35         0.0\n",
       "Nama Bahan Pangan36         1.0\n",
       "Nama Bahan Pangan37         0.0\n",
       "Nama Bahan Pangan38         0.0\n",
       "Nama Bahan Pangan39         0.0\n",
       "Nama Bahan Pangan40         0.0\n",
       "Nama Bahan Pangan41         1.0\n",
       "Nama Bahan Pangan42         0.0\n",
       "Nama Bahan Pangan43         0.0\n",
       "Nama Bahan Pangan44         0.0\n",
       "Nama Bahan Pangan45         1.0\n",
       "Nama Bahan Pangan46         0.0\n",
       "Nama Bahan Pangan47         0.0\n",
       "Nama Bahan Pangan48         0.0\n",
       "Nama Bahan Pangan49         0.0\n",
       "Nama Bahan Pangan50         0.0\n",
       "Nama Bahan Pangan51         0.0\n",
       "Nama Bahan Pangan52         0.0\n",
       "Nama Bahan Pangan53         0.0\n",
       "Nama Bahan Pangan54         0.0\n",
       "Harga                  705000.0\n",
       "Name: 0, dtype: float64"
      ]
     },
     "execution_count": 1251,
     "metadata": {},
     "output_type": "execute_result"
    }
   ],
   "source": [
    "df3 = pd.read_csv('./hasilrevisi/percobaan4_2.csv')\n",
    "df3 = df3.drop(['Unnamed: 0'], 1)\n",
    "df3 = df3[df3['Harga']>0].tail().loc[0]\n",
    "df3"
   ]
  },
  {
   "cell_type": "code",
   "execution_count": 1252,
   "id": "d804cdb9-92ca-4aaa-94a1-d74289fbf858",
   "metadata": {},
   "outputs": [
    {
     "data": {
      "text/plain": [
       "Daging           4\n",
       "Bahan Pangan     3\n",
       "Rempah-Rempah    3\n",
       "Ikan             3\n",
       "Sayur            1\n",
       "Name: Kategori, dtype: int64"
      ]
     },
     "execution_count": 1252,
     "metadata": {},
     "output_type": "execute_result"
    }
   ],
   "source": [
    "idx_d = df3.apply( lambda x: x==1)\n",
    "idx_d\n",
    "\n",
    "dfres = df[idx_d[:-1].values]\n",
    "dfres['Kategori'].value_counts()"
   ]
  },
  {
   "cell_type": "code",
   "execution_count": 1253,
   "id": "19e71d20-b199-4646-ad4f-21288b4ca801",
   "metadata": {},
   "outputs": [
    {
     "data": {
      "image/png": "[encoded data removed]",
      "text/plain": [
       "<Figure size 432x288 with 1 Axes>"
      ]
     },
     "metadata": {},
     "output_type": "display_data"
    }
   ],
   "source": [
    "labels = ['Bahan Pangan', 'Buah', 'Ikan', 'Daging', 'Rempah-Rempah', 'Sayur']\n",
    "percents = [3,0,3,4,3,1]\n",
    "\n",
    "explode = (0, 0, 0, 0, 0, 0)\n",
    "fig1, ax1 = plt.subplots()\n",
    "ax1.pie(percents, explode=explode, labels=labels, autopct='%1.1f%%', shadow=True, startangle=90)\n",
    "ax1.axis('equal')\n",
    "ax1.set_title('Percobaan 4', fontsize=14)\n",
    "plt.show()"
   ]
  },
  {
   "cell_type": "markdown",
   "id": "867db5d6-c5f0-40f6-a249-5e156c874928",
   "metadata": {},
   "source": [
    "- Percobaan 5"
   ]
  },
  {
   "cell_type": "code",
   "execution_count": 1254,
   "id": "82ab916c-3d5a-4e4d-aec2-050361c69b98",
   "metadata": {},
   "outputs": [
    {
     "name": "stderr",
     "output_type": "stream",
     "text": [
      "C:\\Users\\micha\\AppData\\Local\\Temp/ipykernel_30232/246261343.py:2: FutureWarning: In a future version of pandas all arguments of DataFrame.drop except for the argument 'labels' will be keyword-only.\n",
      "  df3 = df3.drop(['Unnamed: 0'], 1)\n"
     ]
    },
    {
     "data": {
      "text/plain": [
       "Nama Bahan Pangan1          1.0\n",
       "Nama Bahan Pangan2          0.0\n",
       "Nama Bahan Pangan3          0.0\n",
       "Nama Bahan Pangan4          0.0\n",
       "Nama Bahan Pangan5          0.0\n",
       "Nama Bahan Pangan6          0.0\n",
       "Nama Bahan Pangan7          0.0\n",
       "Nama Bahan Pangan8          0.0\n",
       "Nama Bahan Pangan9          0.0\n",
       "Nama Bahan Pangan10         1.0\n",
       "Nama Bahan Pangan11         0.0\n",
       "Nama Bahan Pangan12         0.0\n",
       "Nama Bahan Pangan13         0.0\n",
       "Nama Bahan Pangan14         0.0\n",
       "Nama Bahan Pangan15         0.0\n",
       "Nama Bahan Pangan16         1.0\n",
       "Nama Bahan Pangan17         0.0\n",
       "Nama Bahan Pangan18         0.0\n",
       "Nama Bahan Pangan19         0.0\n",
       "Nama Bahan Pangan20         0.0\n",
       "Nama Bahan Pangan21         0.0\n",
       "Nama Bahan Pangan22         0.0\n",
       "Nama Bahan Pangan23         0.0\n",
       "Nama Bahan Pangan24         1.0\n",
       "Nama Bahan Pangan25         0.0\n",
       "Nama Bahan Pangan26         1.0\n",
       "Nama Bahan Pangan27         1.0\n",
       "Nama Bahan Pangan28         0.0\n",
       "Nama Bahan Pangan29         1.0\n",
       "Nama Bahan Pangan30         1.0\n",
       "Nama Bahan Pangan31         0.0\n",
       "Nama Bahan Pangan32         1.0\n",
       "Nama Bahan Pangan33         0.0\n",
       "Nama Bahan Pangan34         1.0\n",
       "Nama Bahan Pangan35         1.0\n",
       "Nama Bahan Pangan36         0.0\n",
       "Nama Bahan Pangan37         1.0\n",
       "Nama Bahan Pangan38         0.0\n",
       "Nama Bahan Pangan39         0.0\n",
       "Nama Bahan Pangan40         0.0\n",
       "Nama Bahan Pangan41         0.0\n",
       "Nama Bahan Pangan42         0.0\n",
       "Nama Bahan Pangan43         0.0\n",
       "Nama Bahan Pangan44         1.0\n",
       "Nama Bahan Pangan45         0.0\n",
       "Nama Bahan Pangan46         0.0\n",
       "Nama Bahan Pangan47         0.0\n",
       "Nama Bahan Pangan48         0.0\n",
       "Nama Bahan Pangan49         0.0\n",
       "Nama Bahan Pangan50         0.0\n",
       "Nama Bahan Pangan51         1.0\n",
       "Nama Bahan Pangan52         0.0\n",
       "Nama Bahan Pangan53         0.0\n",
       "Nama Bahan Pangan54         0.0\n",
       "Harga                  478500.0\n",
       "Name: 0, dtype: float64"
      ]
     },
     "execution_count": 1254,
     "metadata": {},
     "output_type": "execute_result"
    }
   ],
   "source": [
    "df3 = pd.read_csv('./hasilrevisi/percobaan5_1.csv')\n",
    "df3 = df3.drop(['Unnamed: 0'], 1)\n",
    "df3 = df3[df3['Harga']>0].tail().loc[0]\n",
    "df3"
   ]
  },
  {
   "cell_type": "code",
   "execution_count": 1255,
   "id": "7d2381a0-3e11-4170-92f2-1fc430734b5f",
   "metadata": {},
   "outputs": [
    {
     "data": {
      "text/plain": [
       "Rempah-Rempah    5\n",
       "Bahan Pangan     3\n",
       "Ikan             3\n",
       "Daging           1\n",
       "Sayur            1\n",
       "Buah             1\n",
       "Name: Kategori, dtype: int64"
      ]
     },
     "execution_count": 1255,
     "metadata": {},
     "output_type": "execute_result"
    }
   ],
   "source": [
    "idx_d = df3.apply( lambda x: x==1)\n",
    "idx_d\n",
    "\n",
    "dfres = df[idx_d[:-1].values]\n",
    "dfres['Kategori'].value_counts()"
   ]
  },
  {
   "cell_type": "code",
   "execution_count": 1256,
   "id": "22949762-1ec6-43f1-a030-b99e5951beb1",
   "metadata": {},
   "outputs": [
    {
     "data": {
      "image/png": "[encoded data removed]",
      "text/plain": [
       "<Figure size 432x288 with 1 Axes>"
      ]
     },
     "metadata": {},
     "output_type": "display_data"
    }
   ],
   "source": [
    "labels = ['Bahan Pangan', 'Buah', 'Ikan', 'Daging', 'Rempah-Rempah', 'Sayur']\n",
    "percents = [3,1,3,1,5,1]\n",
    "\n",
    "explode = (0, 0, 0, 0, 0, 0)\n",
    "fig1, ax1 = plt.subplots()\n",
    "ax1.pie(percents, explode=explode, labels=labels, autopct='%1.1f%%', shadow=True, startangle=90)\n",
    "ax1.axis('equal')\n",
    "ax1.set_title('Percobaan 5', fontsize=14)\n",
    "plt.show()"
   ]
  },
  {
   "cell_type": "markdown",
   "id": "bf59db08-4911-4d4e-b06c-194b06a0e2fc",
   "metadata": {},
   "source": [
    "- Percobaan 6"
   ]
  },
  {
   "cell_type": "code",
   "execution_count": 1257,
   "id": "f3ca7896-9543-4b8c-b6dd-ba13c2f8bb28",
   "metadata": {},
   "outputs": [
    {
     "name": "stderr",
     "output_type": "stream",
     "text": [
      "C:\\Users\\micha\\AppData\\Local\\Temp/ipykernel_30232/1569131009.py:2: FutureWarning: In a future version of pandas all arguments of DataFrame.drop except for the argument 'labels' will be keyword-only.\n",
      "  df3 = df3.drop(['Unnamed: 0'], 1)\n"
     ]
    },
    {
     "data": {
      "text/plain": [
       "Nama Bahan Pangan1          1.0\n",
       "Nama Bahan Pangan2          0.0\n",
       "Nama Bahan Pangan3          0.0\n",
       "Nama Bahan Pangan4          0.0\n",
       "Nama Bahan Pangan5          1.0\n",
       "Nama Bahan Pangan6          0.0\n",
       "Nama Bahan Pangan7          1.0\n",
       "Nama Bahan Pangan8          0.0\n",
       "Nama Bahan Pangan9          1.0\n",
       "Nama Bahan Pangan10         0.0\n",
       "Nama Bahan Pangan11         0.0\n",
       "Nama Bahan Pangan12         1.0\n",
       "Nama Bahan Pangan13         0.0\n",
       "Nama Bahan Pangan14         1.0\n",
       "Nama Bahan Pangan15         1.0\n",
       "Nama Bahan Pangan16         1.0\n",
       "Nama Bahan Pangan17         1.0\n",
       "Nama Bahan Pangan18         0.0\n",
       "Nama Bahan Pangan19         0.0\n",
       "Nama Bahan Pangan20         0.0\n",
       "Nama Bahan Pangan21         0.0\n",
       "Nama Bahan Pangan22         0.0\n",
       "Nama Bahan Pangan23         0.0\n",
       "Nama Bahan Pangan24         0.0\n",
       "Nama Bahan Pangan25         0.0\n",
       "Nama Bahan Pangan26         0.0\n",
       "Nama Bahan Pangan27         1.0\n",
       "Nama Bahan Pangan28         0.0\n",
       "Nama Bahan Pangan29         0.0\n",
       "Nama Bahan Pangan30         1.0\n",
       "Nama Bahan Pangan31         0.0\n",
       "Nama Bahan Pangan32         0.0\n",
       "Nama Bahan Pangan33         1.0\n",
       "Nama Bahan Pangan34         1.0\n",
       "Nama Bahan Pangan35         0.0\n",
       "Nama Bahan Pangan36         0.0\n",
       "Nama Bahan Pangan37         0.0\n",
       "Nama Bahan Pangan38         0.0\n",
       "Nama Bahan Pangan39         0.0\n",
       "Nama Bahan Pangan40         0.0\n",
       "Nama Bahan Pangan41         0.0\n",
       "Nama Bahan Pangan42         1.0\n",
       "Nama Bahan Pangan43         0.0\n",
       "Nama Bahan Pangan44         0.0\n",
       "Nama Bahan Pangan45         1.0\n",
       "Nama Bahan Pangan46         0.0\n",
       "Nama Bahan Pangan47         0.0\n",
       "Nama Bahan Pangan48         0.0\n",
       "Nama Bahan Pangan49         0.0\n",
       "Nama Bahan Pangan50         0.0\n",
       "Nama Bahan Pangan51         0.0\n",
       "Nama Bahan Pangan52         0.0\n",
       "Nama Bahan Pangan53         1.0\n",
       "Nama Bahan Pangan54         0.0\n",
       "Harga                  400800.0\n",
       "Name: 0, dtype: float64"
      ]
     },
     "execution_count": 1257,
     "metadata": {},
     "output_type": "execute_result"
    }
   ],
   "source": [
    "df3 = pd.read_csv('./hasilrevisi/percobaan6_0.csv')\n",
    "df3 = df3.drop(['Unnamed: 0'], 1)\n",
    "df3 = df3[df3['Harga']>0].tail().loc[0]\n",
    "df3"
   ]
  },
  {
   "cell_type": "code",
   "execution_count": 1258,
   "id": "a221ea4e-a040-4071-882f-1687f78b7681",
   "metadata": {},
   "outputs": [
    {
     "data": {
      "text/plain": [
       "Bahan Pangan     9\n",
       "Rempah-Rempah    3\n",
       "Ikan             2\n",
       "Sayur            1\n",
       "Buah             1\n",
       "Name: Kategori, dtype: int64"
      ]
     },
     "execution_count": 1258,
     "metadata": {},
     "output_type": "execute_result"
    }
   ],
   "source": [
    "idx_d = df3.apply( lambda x: x==1)\n",
    "idx_d\n",
    "\n",
    "dfres = df[idx_d[:-1].values]\n",
    "dfres['Kategori'].value_counts()"
   ]
  },
  {
   "cell_type": "code",
   "execution_count": 1259,
   "id": "ef03c294-391d-419b-a2fe-03e8d4166832",
   "metadata": {},
   "outputs": [
    {
     "data": {
      "image/png": "[encoded data removed]",
      "text/plain": [
       "<Figure size 432x288 with 1 Axes>"
      ]
     },
     "metadata": {},
     "output_type": "display_data"
    }
   ],
   "source": [
    "labels = ['Bahan Pangan', 'Buah', 'Ikan', 'Daging', 'Rempah-Rempah', 'Sayur']\n",
    "percents = [9,1,2,0,3,1]\n",
    "\n",
    "explode = (0, 0, 0, 0, 0, 0)\n",
    "fig1, ax1 = plt.subplots()\n",
    "ax1.pie(percents, explode=explode, labels=labels, autopct='%1.1f%%', shadow=True, startangle=90)\n",
    "ax1.axis('equal')\n",
    "ax1.set_title('Percobaan 6', fontsize=14)\n",
    "plt.show()"
   ]
  },
  {
   "cell_type": "markdown",
   "id": "40134c27-6103-4450-874c-fe1ba106fd9e",
   "metadata": {},
   "source": [
    "- Percobaan 7"
   ]
  },
  {
   "cell_type": "code",
   "execution_count": 1260,
   "id": "442ef8db-ba87-4acf-937e-d9fa001d8aff",
   "metadata": {},
   "outputs": [
    {
     "name": "stderr",
     "output_type": "stream",
     "text": [
      "C:\\Users\\micha\\AppData\\Local\\Temp/ipykernel_30232/2387578282.py:2: FutureWarning: In a future version of pandas all arguments of DataFrame.drop except for the argument 'labels' will be keyword-only.\n",
      "  df3 = df3.drop(['Unnamed: 0'], 1)\n"
     ]
    },
    {
     "data": {
      "text/plain": [
       "Nama Bahan Pangan1          0.0\n",
       "Nama Bahan Pangan2          0.0\n",
       "Nama Bahan Pangan3          0.0\n",
       "Nama Bahan Pangan4          1.0\n",
       "Nama Bahan Pangan5          0.0\n",
       "Nama Bahan Pangan6          0.0\n",
       "Nama Bahan Pangan7          1.0\n",
       "Nama Bahan Pangan8          0.0\n",
       "Nama Bahan Pangan9          0.0\n",
       "Nama Bahan Pangan10         0.0\n",
       "Nama Bahan Pangan11         0.0\n",
       "Nama Bahan Pangan12         1.0\n",
       "Nama Bahan Pangan13         1.0\n",
       "Nama Bahan Pangan14         1.0\n",
       "Nama Bahan Pangan15         0.0\n",
       "Nama Bahan Pangan16         0.0\n",
       "Nama Bahan Pangan17         0.0\n",
       "Nama Bahan Pangan18         0.0\n",
       "Nama Bahan Pangan19         0.0\n",
       "Nama Bahan Pangan20         0.0\n",
       "Nama Bahan Pangan21         0.0\n",
       "Nama Bahan Pangan22         1.0\n",
       "Nama Bahan Pangan23         1.0\n",
       "Nama Bahan Pangan24         0.0\n",
       "Nama Bahan Pangan25         0.0\n",
       "Nama Bahan Pangan26         1.0\n",
       "Nama Bahan Pangan27         1.0\n",
       "Nama Bahan Pangan28         0.0\n",
       "Nama Bahan Pangan29         0.0\n",
       "Nama Bahan Pangan30         0.0\n",
       "Nama Bahan Pangan31         0.0\n",
       "Nama Bahan Pangan32         1.0\n",
       "Nama Bahan Pangan33         0.0\n",
       "Nama Bahan Pangan34         0.0\n",
       "Nama Bahan Pangan35         1.0\n",
       "Nama Bahan Pangan36         1.0\n",
       "Nama Bahan Pangan37         1.0\n",
       "Nama Bahan Pangan38         1.0\n",
       "Nama Bahan Pangan39         0.0\n",
       "Nama Bahan Pangan40         0.0\n",
       "Nama Bahan Pangan41         0.0\n",
       "Nama Bahan Pangan42         1.0\n",
       "Nama Bahan Pangan43         0.0\n",
       "Nama Bahan Pangan44         0.0\n",
       "Nama Bahan Pangan45         0.0\n",
       "Nama Bahan Pangan46         0.0\n",
       "Nama Bahan Pangan47         0.0\n",
       "Nama Bahan Pangan48         0.0\n",
       "Nama Bahan Pangan49         0.0\n",
       "Nama Bahan Pangan50         0.0\n",
       "Nama Bahan Pangan51         0.0\n",
       "Nama Bahan Pangan52         0.0\n",
       "Nama Bahan Pangan53         0.0\n",
       "Nama Bahan Pangan54         0.0\n",
       "Harga                  569100.0\n",
       "Name: 0, dtype: float64"
      ]
     },
     "execution_count": 1260,
     "metadata": {},
     "output_type": "execute_result"
    }
   ],
   "source": [
    "df3 = pd.read_csv('./hasilrevisi/percobaan7_1.csv')\n",
    "df3 = df3.drop(['Unnamed: 0'], 1)\n",
    "df3 = df3[df3['Harga']>0].tail().loc[0]\n",
    "df3"
   ]
  },
  {
   "cell_type": "code",
   "execution_count": 1261,
   "id": "aa338cd0-ee4c-42cf-8c4c-2807a2d68f88",
   "metadata": {},
   "outputs": [
    {
     "data": {
      "text/plain": [
       "Bahan Pangan     5\n",
       "Ikan             5\n",
       "Rempah-Rempah    3\n",
       "Daging           2\n",
       "Name: Kategori, dtype: int64"
      ]
     },
     "execution_count": 1261,
     "metadata": {},
     "output_type": "execute_result"
    }
   ],
   "source": [
    "idx_d = df3.apply( lambda x: x==1)\n",
    "idx_d\n",
    "\n",
    "dfres = df[idx_d[:-1].values]\n",
    "dfres['Kategori'].value_counts()"
   ]
  },
  {
   "cell_type": "code",
   "execution_count": 1262,
   "id": "fdffdb66-a18d-4451-961c-6ad5c9da1844",
   "metadata": {},
   "outputs": [
    {
     "data": {
      "image/png": "[encoded data removed]",
      "text/plain": [
       "<Figure size 432x288 with 1 Axes>"
      ]
     },
     "metadata": {},
     "output_type": "display_data"
    }
   ],
   "source": [
    "labels = ['Bahan Pangan', 'Buah', 'Ikan', 'Daging', 'Rempah-Rempah', 'Sayur']\n",
    "percents = [5,0,5,2,3,0]\n",
    "\n",
    "explode = (0, 0, 0, 0, 0, 0)\n",
    "fig1, ax1 = plt.subplots()\n",
    "ax1.pie(percents, explode=explode, labels=labels, autopct='%1.1f%%', shadow=True, startangle=90)\n",
    "ax1.axis('equal')\n",
    "ax1.set_title('Percobaan 7', fontsize=14)\n",
    "plt.show()"
   ]
  },
  {
   "cell_type": "markdown",
   "id": "631fb2ad-1ca5-49e0-a302-34d4fd12c6f6",
   "metadata": {},
   "source": [
    "- Percobaan 8"
   ]
  },
  {
   "cell_type": "code",
   "execution_count": 1263,
   "id": "e01993cc-cbeb-4152-81d0-d44bd581bf5e",
   "metadata": {},
   "outputs": [
    {
     "name": "stderr",
     "output_type": "stream",
     "text": [
      "C:\\Users\\micha\\AppData\\Local\\Temp/ipykernel_30232/2740435734.py:2: FutureWarning: In a future version of pandas all arguments of DataFrame.drop except for the argument 'labels' will be keyword-only.\n",
      "  df3 = df3.drop(['Unnamed: 0'], 1)\n"
     ]
    },
    {
     "data": {
      "text/plain": [
       "Nama Bahan Pangan1          0.0\n",
       "Nama Bahan Pangan2          0.0\n",
       "Nama Bahan Pangan3          0.0\n",
       "Nama Bahan Pangan4          0.0\n",
       "Nama Bahan Pangan5          0.0\n",
       "Nama Bahan Pangan6          0.0\n",
       "Nama Bahan Pangan7          0.0\n",
       "Nama Bahan Pangan8          1.0\n",
       "Nama Bahan Pangan9          0.0\n",
       "Nama Bahan Pangan10         1.0\n",
       "Nama Bahan Pangan11         0.0\n",
       "Nama Bahan Pangan12         0.0\n",
       "Nama Bahan Pangan13         0.0\n",
       "Nama Bahan Pangan14         0.0\n",
       "Nama Bahan Pangan15         1.0\n",
       "Nama Bahan Pangan16         1.0\n",
       "Nama Bahan Pangan17         0.0\n",
       "Nama Bahan Pangan18         1.0\n",
       "Nama Bahan Pangan19         0.0\n",
       "Nama Bahan Pangan20         0.0\n",
       "Nama Bahan Pangan21         1.0\n",
       "Nama Bahan Pangan22         1.0\n",
       "Nama Bahan Pangan23         1.0\n",
       "Nama Bahan Pangan24         0.0\n",
       "Nama Bahan Pangan25         1.0\n",
       "Nama Bahan Pangan26         0.0\n",
       "Nama Bahan Pangan27         1.0\n",
       "Nama Bahan Pangan28         0.0\n",
       "Nama Bahan Pangan29         0.0\n",
       "Nama Bahan Pangan30         1.0\n",
       "Nama Bahan Pangan31         0.0\n",
       "Nama Bahan Pangan32         0.0\n",
       "Nama Bahan Pangan33         0.0\n",
       "Nama Bahan Pangan34         0.0\n",
       "Nama Bahan Pangan35         0.0\n",
       "Nama Bahan Pangan36         0.0\n",
       "Nama Bahan Pangan37         0.0\n",
       "Nama Bahan Pangan38         0.0\n",
       "Nama Bahan Pangan39         0.0\n",
       "Nama Bahan Pangan40         0.0\n",
       "Nama Bahan Pangan41         0.0\n",
       "Nama Bahan Pangan42         0.0\n",
       "Nama Bahan Pangan43         1.0\n",
       "Nama Bahan Pangan44         0.0\n",
       "Nama Bahan Pangan45         0.0\n",
       "Nama Bahan Pangan46         0.0\n",
       "Nama Bahan Pangan47         1.0\n",
       "Nama Bahan Pangan48         1.0\n",
       "Nama Bahan Pangan49         0.0\n",
       "Nama Bahan Pangan50         0.0\n",
       "Nama Bahan Pangan51         0.0\n",
       "Nama Bahan Pangan52         1.0\n",
       "Nama Bahan Pangan53         0.0\n",
       "Nama Bahan Pangan54         0.0\n",
       "Harga                  648500.0\n",
       "Name: 0, dtype: float64"
      ]
     },
     "execution_count": 1263,
     "metadata": {},
     "output_type": "execute_result"
    }
   ],
   "source": [
    "df3 = pd.read_csv('./hasilrevisi/percobaan8_2.csv')\n",
    "df3 = df3.drop(['Unnamed: 0'], 1)\n",
    "df3 = df3[df3['Harga']>0].tail().loc[0]\n",
    "df3"
   ]
  },
  {
   "cell_type": "code",
   "execution_count": 1264,
   "id": "d73fb984-a4ed-4067-bc21-bcf78146c7d0",
   "metadata": {},
   "outputs": [
    {
     "data": {
      "text/plain": [
       "Daging           5\n",
       "Bahan Pangan     4\n",
       "Rempah-Rempah    2\n",
       "Sayur            2\n",
       "Buah             2\n",
       "Name: Kategori, dtype: int64"
      ]
     },
     "execution_count": 1264,
     "metadata": {},
     "output_type": "execute_result"
    }
   ],
   "source": [
    "idx_d = df3.apply( lambda x: x==1)\n",
    "idx_d\n",
    "\n",
    "dfres = df[idx_d[:-1].values]\n",
    "dfres['Kategori'].value_counts()"
   ]
  },
  {
   "cell_type": "code",
   "execution_count": 1266,
   "id": "79a1523f-1269-4595-925d-18ab8ccd9d1a",
   "metadata": {},
   "outputs": [
    {
     "data": {
      "image/png": "[encoded data removed]",
      "text/plain": [
       "<Figure size 432x288 with 1 Axes>"
      ]
     },
     "metadata": {},
     "output_type": "display_data"
    }
   ],
   "source": [
    "labels = ['Bahan Pangan', 'Buah', 'Ikan', 'Daging', 'Rempah-Rempah', 'Sayur']\n",
    "percents = [4,2,0,5,2,2]\n",
    "\n",
    "explode = (0, 0, 0, 0, 0, 0)\n",
    "fig1, ax1 = plt.subplots()\n",
    "ax1.pie(percents, explode=explode, labels=labels, autopct='%1.1f%%', shadow=True, startangle=90)\n",
    "ax1.axis('equal')\n",
    "ax1.set_title('Percobaan 8', fontsize=14)\n",
    "plt.show()"
   ]
  },
  {
   "cell_type": "markdown",
   "id": "7ccdcd54-3436-4019-b66c-c512e76508c0",
   "metadata": {},
   "source": [
    "- Percobaan 9"
   ]
  },
  {
   "cell_type": "code",
   "execution_count": 1268,
   "id": "adb3cac1-b5da-4b72-ab55-7b42d81481c8",
   "metadata": {},
   "outputs": [
    {
     "name": "stderr",
     "output_type": "stream",
     "text": [
      "C:\\Users\\micha\\AppData\\Local\\Temp/ipykernel_30232/1491180791.py:2: FutureWarning: In a future version of pandas all arguments of DataFrame.drop except for the argument 'labels' will be keyword-only.\n",
      "  df3 = df3.drop(['Unnamed: 0'], 1)\n"
     ]
    },
    {
     "data": {
      "text/plain": [
       "Nama Bahan Pangan1          0.0\n",
       "Nama Bahan Pangan2          1.0\n",
       "Nama Bahan Pangan3          1.0\n",
       "Nama Bahan Pangan4          0.0\n",
       "Nama Bahan Pangan5          0.0\n",
       "Nama Bahan Pangan6          0.0\n",
       "Nama Bahan Pangan7          0.0\n",
       "Nama Bahan Pangan8          0.0\n",
       "Nama Bahan Pangan9          0.0\n",
       "Nama Bahan Pangan10         0.0\n",
       "Nama Bahan Pangan11         0.0\n",
       "Nama Bahan Pangan12         0.0\n",
       "Nama Bahan Pangan13         1.0\n",
       "Nama Bahan Pangan14         0.0\n",
       "Nama Bahan Pangan15         0.0\n",
       "Nama Bahan Pangan16         0.0\n",
       "Nama Bahan Pangan17         1.0\n",
       "Nama Bahan Pangan18         0.0\n",
       "Nama Bahan Pangan19         1.0\n",
       "Nama Bahan Pangan20         0.0\n",
       "Nama Bahan Pangan21         0.0\n",
       "Nama Bahan Pangan22         1.0\n",
       "Nama Bahan Pangan23         1.0\n",
       "Nama Bahan Pangan24         0.0\n",
       "Nama Bahan Pangan25         0.0\n",
       "Nama Bahan Pangan26         0.0\n",
       "Nama Bahan Pangan27         0.0\n",
       "Nama Bahan Pangan28         0.0\n",
       "Nama Bahan Pangan29         0.0\n",
       "Nama Bahan Pangan30         0.0\n",
       "Nama Bahan Pangan31         0.0\n",
       "Nama Bahan Pangan32         0.0\n",
       "Nama Bahan Pangan33         0.0\n",
       "Nama Bahan Pangan34         1.0\n",
       "Nama Bahan Pangan35         0.0\n",
       "Nama Bahan Pangan36         0.0\n",
       "Nama Bahan Pangan37         1.0\n",
       "Nama Bahan Pangan38         0.0\n",
       "Nama Bahan Pangan39         0.0\n",
       "Nama Bahan Pangan40         0.0\n",
       "Nama Bahan Pangan41         0.0\n",
       "Nama Bahan Pangan42         1.0\n",
       "Nama Bahan Pangan43         0.0\n",
       "Nama Bahan Pangan44         1.0\n",
       "Nama Bahan Pangan45         1.0\n",
       "Nama Bahan Pangan46         0.0\n",
       "Nama Bahan Pangan47         1.0\n",
       "Nama Bahan Pangan48         0.0\n",
       "Nama Bahan Pangan49         0.0\n",
       "Nama Bahan Pangan50         0.0\n",
       "Nama Bahan Pangan51         0.0\n",
       "Nama Bahan Pangan52         0.0\n",
       "Nama Bahan Pangan53         0.0\n",
       "Nama Bahan Pangan54         0.0\n",
       "Harga                  594200.0\n",
       "Name: 0, dtype: float64"
      ]
     },
     "execution_count": 1268,
     "metadata": {},
     "output_type": "execute_result"
    }
   ],
   "source": [
    "df3 = pd.read_csv('./hasilrevisi/percobaan9_1.csv')\n",
    "df3 = df3.drop(['Unnamed: 0'], 1)\n",
    "df3 = df3[df3['Harga']>0].tail().loc[0]\n",
    "df3"
   ]
  },
  {
   "cell_type": "code",
   "execution_count": 1269,
   "id": "84990ec0-7018-488a-9872-9d6ed02bcc42",
   "metadata": {},
   "outputs": [
    {
     "data": {
      "text/plain": [
       "Bahan Pangan    4\n",
       "Daging          3\n",
       "Ikan            3\n",
       "Sayur           3\n",
       "Name: Kategori, dtype: int64"
      ]
     },
     "execution_count": 1269,
     "metadata": {},
     "output_type": "execute_result"
    }
   ],
   "source": [
    "idx_d = df3.apply( lambda x: x==1)\n",
    "idx_d\n",
    "\n",
    "dfres = df[idx_d[:-1].values]\n",
    "dfres['Kategori'].value_counts()"
   ]
  },
  {
   "cell_type": "code",
   "execution_count": 1270,
   "id": "7ca08b2f-52aa-44a4-b1f5-f88a1949e4c9",
   "metadata": {},
   "outputs": [
    {
     "data": {
      "image/png": "[encoded data removed]",
      "text/plain": [
       "<Figure size 432x288 with 1 Axes>"
      ]
     },
     "metadata": {},
     "output_type": "display_data"
    }
   ],
   "source": [
    "labels = ['Bahan Pangan', 'Buah', 'Ikan', 'Daging', 'Rempah-Rempah', 'Sayur']\n",
    "percents = [4,0,3,3,0,3]\n",
    "\n",
    "explode = (0, 0, 0, 0, 0, 0)\n",
    "fig1, ax1 = plt.subplots()\n",
    "ax1.pie(percents, explode=explode, labels=labels, autopct='%1.1f%%', shadow=True, startangle=90)\n",
    "ax1.axis('equal')\n",
    "ax1.set_title('Percobaan 9', fontsize=14)\n",
    "plt.show()"
   ]
  },
  {
   "cell_type": "markdown",
   "id": "a989ef99-5b05-45c9-b1b3-72356225452e",
   "metadata": {},
   "source": [
    "- Percobaan 10"
   ]
  },
  {
   "cell_type": "code",
   "execution_count": 1272,
   "id": "fabd3620-4a76-4f13-b6a0-118f819dbcdc",
   "metadata": {},
   "outputs": [
    {
     "name": "stderr",
     "output_type": "stream",
     "text": [
      "C:\\Users\\micha\\AppData\\Local\\Temp/ipykernel_30232/1095776601.py:2: FutureWarning: In a future version of pandas all arguments of DataFrame.drop except for the argument 'labels' will be keyword-only.\n",
      "  df3 = df3.drop(['Unnamed: 0'], 1)\n"
     ]
    },
    {
     "data": {
      "text/plain": [
       "Nama Bahan Pangan1          1.0\n",
       "Nama Bahan Pangan2          0.0\n",
       "Nama Bahan Pangan3          0.0\n",
       "Nama Bahan Pangan4          0.0\n",
       "Nama Bahan Pangan5          1.0\n",
       "Nama Bahan Pangan6          1.0\n",
       "Nama Bahan Pangan7          0.0\n",
       "Nama Bahan Pangan8          0.0\n",
       "Nama Bahan Pangan9          0.0\n",
       "Nama Bahan Pangan10         0.0\n",
       "Nama Bahan Pangan11         0.0\n",
       "Nama Bahan Pangan12         1.0\n",
       "Nama Bahan Pangan13         1.0\n",
       "Nama Bahan Pangan14         1.0\n",
       "Nama Bahan Pangan15         0.0\n",
       "Nama Bahan Pangan16         1.0\n",
       "Nama Bahan Pangan17         1.0\n",
       "Nama Bahan Pangan18         1.0\n",
       "Nama Bahan Pangan19         0.0\n",
       "Nama Bahan Pangan20         0.0\n",
       "Nama Bahan Pangan21         1.0\n",
       "Nama Bahan Pangan22         0.0\n",
       "Nama Bahan Pangan23         1.0\n",
       "Nama Bahan Pangan24         0.0\n",
       "Nama Bahan Pangan25         1.0\n",
       "Nama Bahan Pangan26         0.0\n",
       "Nama Bahan Pangan27         0.0\n",
       "Nama Bahan Pangan28         0.0\n",
       "Nama Bahan Pangan29         0.0\n",
       "Nama Bahan Pangan30         0.0\n",
       "Nama Bahan Pangan31         0.0\n",
       "Nama Bahan Pangan32         0.0\n",
       "Nama Bahan Pangan33         1.0\n",
       "Nama Bahan Pangan34         1.0\n",
       "Nama Bahan Pangan35         0.0\n",
       "Nama Bahan Pangan36         0.0\n",
       "Nama Bahan Pangan37         0.0\n",
       "Nama Bahan Pangan38         0.0\n",
       "Nama Bahan Pangan39         0.0\n",
       "Nama Bahan Pangan40         1.0\n",
       "Nama Bahan Pangan41         0.0\n",
       "Nama Bahan Pangan42         1.0\n",
       "Nama Bahan Pangan43         0.0\n",
       "Nama Bahan Pangan44         0.0\n",
       "Nama Bahan Pangan45         0.0\n",
       "Nama Bahan Pangan46         0.0\n",
       "Nama Bahan Pangan47         0.0\n",
       "Nama Bahan Pangan48         0.0\n",
       "Nama Bahan Pangan49         0.0\n",
       "Nama Bahan Pangan50         0.0\n",
       "Nama Bahan Pangan51         0.0\n",
       "Nama Bahan Pangan52         0.0\n",
       "Nama Bahan Pangan53         0.0\n",
       "Nama Bahan Pangan54         0.0\n",
       "Harga                  713800.0\n",
       "Name: 0, dtype: float64"
      ]
     },
     "execution_count": 1272,
     "metadata": {},
     "output_type": "execute_result"
    }
   ],
   "source": [
    "df3 = pd.read_csv('./hasilrevisi/percobaan10_0.csv')\n",
    "df3 = df3.drop(['Unnamed: 0'], 1)\n",
    "df3 = df3[df3['Harga']>0].tail().loc[0]\n",
    "df3"
   ]
  },
  {
   "cell_type": "code",
   "execution_count": 1273,
   "id": "44745bbe-7d12-4fbf-8e21-0fcd8ab3150a",
   "metadata": {},
   "outputs": [
    {
     "data": {
      "text/plain": [
       "Bahan Pangan     8\n",
       "Daging           4\n",
       "Ikan             3\n",
       "Rempah-Rempah    1\n",
       "Name: Kategori, dtype: int64"
      ]
     },
     "execution_count": 1273,
     "metadata": {},
     "output_type": "execute_result"
    }
   ],
   "source": [
    "idx_d = df3.apply( lambda x: x==1)\n",
    "idx_d\n",
    "\n",
    "dfres = df[idx_d[:-1].values]\n",
    "dfres['Kategori'].value_counts()"
   ]
  },
  {
   "cell_type": "code",
   "execution_count": 1276,
   "id": "3e46959f-468d-4fa7-9be1-60f78dcdf721",
   "metadata": {},
   "outputs": [
    {
     "data": {
      "image/png": "[encoded data removed]",
      "text/plain": [
       "<Figure size 432x288 with 1 Axes>"
      ]
     },
     "metadata": {},
     "output_type": "display_data"
    }
   ],
   "source": [
    "labels = ['Bahan Pangan', 'Buah', 'Ikan', 'Sayur', 'Daging', 'Rempah-Rempah']\n",
    "percents = [8,0,3,0,4,1]\n",
    "\n",
    "explode = (0, 0, 0, 0, 0, 0)\n",
    "fig1, ax1 = plt.subplots()\n",
    "ax1.pie(percents, explode=explode, labels=labels, autopct='%1.1f%%', shadow=True, startangle=90)\n",
    "ax1.axis('equal')\n",
    "ax1.set_title('Percobaan 10', fontsize=14)\n",
    "plt.show()"
   ]
  },
  {
   "cell_type": "markdown",
   "id": "c55d2296-8c7a-40b0-86db-a8598d03bbc8",
   "metadata": {},
   "source": [
    "- Percobaan 11"
   ]
  },
  {
   "cell_type": "code",
   "execution_count": 1277,
   "id": "07c7539b-ffab-4b7d-ade2-cedbf4c1b458",
   "metadata": {},
   "outputs": [
    {
     "name": "stderr",
     "output_type": "stream",
     "text": [
      "C:\\Users\\micha\\AppData\\Local\\Temp/ipykernel_30232/1956662302.py:2: FutureWarning: In a future version of pandas all arguments of DataFrame.drop except for the argument 'labels' will be keyword-only.\n",
      "  df3 = df3.drop(['Unnamed: 0'], 1)\n"
     ]
    },
    {
     "data": {
      "text/plain": [
       "Nama Bahan Pangan1          0.0\n",
       "Nama Bahan Pangan2          0.0\n",
       "Nama Bahan Pangan3          0.0\n",
       "Nama Bahan Pangan4          0.0\n",
       "Nama Bahan Pangan5          0.0\n",
       "Nama Bahan Pangan6          0.0\n",
       "Nama Bahan Pangan7          0.0\n",
       "Nama Bahan Pangan8          0.0\n",
       "Nama Bahan Pangan9          0.0\n",
       "Nama Bahan Pangan10         0.0\n",
       "Nama Bahan Pangan11         0.0\n",
       "Nama Bahan Pangan12         1.0\n",
       "Nama Bahan Pangan13         1.0\n",
       "Nama Bahan Pangan14         0.0\n",
       "Nama Bahan Pangan15         1.0\n",
       "Nama Bahan Pangan16         0.0\n",
       "Nama Bahan Pangan17         1.0\n",
       "Nama Bahan Pangan18         0.0\n",
       "Nama Bahan Pangan19         1.0\n",
       "Nama Bahan Pangan20         0.0\n",
       "Nama Bahan Pangan21         1.0\n",
       "Nama Bahan Pangan22         1.0\n",
       "Nama Bahan Pangan23         0.0\n",
       "Nama Bahan Pangan24         0.0\n",
       "Nama Bahan Pangan25         0.0\n",
       "Nama Bahan Pangan26         1.0\n",
       "Nama Bahan Pangan27         0.0\n",
       "Nama Bahan Pangan28         0.0\n",
       "Nama Bahan Pangan29         0.0\n",
       "Nama Bahan Pangan30         0.0\n",
       "Nama Bahan Pangan31         0.0\n",
       "Nama Bahan Pangan32         0.0\n",
       "Nama Bahan Pangan33         1.0\n",
       "Nama Bahan Pangan34         1.0\n",
       "Nama Bahan Pangan35         1.0\n",
       "Nama Bahan Pangan36         0.0\n",
       "Nama Bahan Pangan37         0.0\n",
       "Nama Bahan Pangan38         1.0\n",
       "Nama Bahan Pangan39         1.0\n",
       "Nama Bahan Pangan40         0.0\n",
       "Nama Bahan Pangan41         0.0\n",
       "Nama Bahan Pangan42         0.0\n",
       "Nama Bahan Pangan43         1.0\n",
       "Nama Bahan Pangan44         0.0\n",
       "Nama Bahan Pangan45         0.0\n",
       "Nama Bahan Pangan46         0.0\n",
       "Nama Bahan Pangan47         0.0\n",
       "Nama Bahan Pangan48         0.0\n",
       "Nama Bahan Pangan49         0.0\n",
       "Nama Bahan Pangan50         0.0\n",
       "Nama Bahan Pangan51         0.0\n",
       "Nama Bahan Pangan52         1.0\n",
       "Nama Bahan Pangan53         0.0\n",
       "Nama Bahan Pangan54         0.0\n",
       "Harga                  697000.0\n",
       "Name: 0, dtype: float64"
      ]
     },
     "execution_count": 1277,
     "metadata": {},
     "output_type": "execute_result"
    }
   ],
   "source": [
    "df3 = pd.read_csv('./hasilrevisi/percobaan11_1.csv')\n",
    "df3 = df3.drop(['Unnamed: 0'], 1)\n",
    "df3 = df3[df3['Harga']>0].tail().loc[0]\n",
    "df3"
   ]
  },
  {
   "cell_type": "code",
   "execution_count": 1278,
   "id": "80031d22-b8e5-4550-8fe6-32bc5453353c",
   "metadata": {},
   "outputs": [
    {
     "data": {
      "text/plain": [
       "Bahan Pangan     4\n",
       "Ikan             4\n",
       "Daging           3\n",
       "Rempah-Rempah    2\n",
       "Sayur            1\n",
       "Buah             1\n",
       "Name: Kategori, dtype: int64"
      ]
     },
     "execution_count": 1278,
     "metadata": {},
     "output_type": "execute_result"
    }
   ],
   "source": [
    "idx_d = df3.apply( lambda x: x==1)\n",
    "idx_d\n",
    "\n",
    "dfres = df[idx_d[:-1].values]\n",
    "dfres['Kategori'].value_counts()"
   ]
  },
  {
   "cell_type": "code",
   "execution_count": 1280,
   "id": "ebc0cc90-f712-405c-a202-f188f230c29d",
   "metadata": {},
   "outputs": [
    {
     "data": {
      "image/png": "[encoded data removed]",
      "text/plain": [
       "<Figure size 432x288 with 1 Axes>"
      ]
     },
     "metadata": {},
     "output_type": "display_data"
    }
   ],
   "source": [
    "labels = ['Bahan Pangan', 'Buah', 'Ikan', 'Daging', 'Rempah-Rempah', 'Sayur']\n",
    "percents = [4,1,4,3,2,1]\n",
    "\n",
    "explode = (0, 0, 0, 0, 0, 0)\n",
    "fig1, ax1 = plt.subplots()\n",
    "ax1.pie(percents, explode=explode, labels=labels, autopct='%1.1f%%', shadow=True, startangle=90)\n",
    "ax1.axis('equal')\n",
    "ax1.set_title('Percobaan 11', fontsize=14)\n",
    "plt.show()"
   ]
  },
  {
   "cell_type": "markdown",
   "id": "d1f29873-834e-4ded-a8f2-9602102f64e9",
   "metadata": {},
   "source": [
    "- Percobaan 12"
   ]
  },
  {
   "cell_type": "code",
   "execution_count": 1281,
   "id": "efa9d128-f959-4a37-9c59-6decd469a8c4",
   "metadata": {},
   "outputs": [
    {
     "name": "stderr",
     "output_type": "stream",
     "text": [
      "C:\\Users\\micha\\AppData\\Local\\Temp/ipykernel_30232/2262067167.py:2: FutureWarning: In a future version of pandas all arguments of DataFrame.drop except for the argument 'labels' will be keyword-only.\n",
      "  df3 = df3.drop(['Unnamed: 0'], 1)\n"
     ]
    },
    {
     "data": {
      "text/plain": [
       "Nama Bahan Pangan1          0.0\n",
       "Nama Bahan Pangan2          1.0\n",
       "Nama Bahan Pangan3          0.0\n",
       "Nama Bahan Pangan4          0.0\n",
       "Nama Bahan Pangan5          0.0\n",
       "Nama Bahan Pangan6          1.0\n",
       "Nama Bahan Pangan7          0.0\n",
       "Nama Bahan Pangan8          0.0\n",
       "Nama Bahan Pangan9          1.0\n",
       "Nama Bahan Pangan10         0.0\n",
       "Nama Bahan Pangan11         0.0\n",
       "Nama Bahan Pangan12         1.0\n",
       "Nama Bahan Pangan13         0.0\n",
       "Nama Bahan Pangan14         0.0\n",
       "Nama Bahan Pangan15         0.0\n",
       "Nama Bahan Pangan16         1.0\n",
       "Nama Bahan Pangan17         0.0\n",
       "Nama Bahan Pangan18         1.0\n",
       "Nama Bahan Pangan19         0.0\n",
       "Nama Bahan Pangan20         1.0\n",
       "Nama Bahan Pangan21         0.0\n",
       "Nama Bahan Pangan22         1.0\n",
       "Nama Bahan Pangan23         0.0\n",
       "Nama Bahan Pangan24         0.0\n",
       "Nama Bahan Pangan25         0.0\n",
       "Nama Bahan Pangan26         0.0\n",
       "Nama Bahan Pangan27         1.0\n",
       "Nama Bahan Pangan28         0.0\n",
       "Nama Bahan Pangan29         0.0\n",
       "Nama Bahan Pangan30         0.0\n",
       "Nama Bahan Pangan31         0.0\n",
       "Nama Bahan Pangan32         1.0\n",
       "Nama Bahan Pangan33         0.0\n",
       "Nama Bahan Pangan34         0.0\n",
       "Nama Bahan Pangan35         0.0\n",
       "Nama Bahan Pangan36         0.0\n",
       "Nama Bahan Pangan37         0.0\n",
       "Nama Bahan Pangan38         0.0\n",
       "Nama Bahan Pangan39         0.0\n",
       "Nama Bahan Pangan40         1.0\n",
       "Nama Bahan Pangan41         0.0\n",
       "Nama Bahan Pangan42         1.0\n",
       "Nama Bahan Pangan43         0.0\n",
       "Nama Bahan Pangan44         0.0\n",
       "Nama Bahan Pangan45         0.0\n",
       "Nama Bahan Pangan46         0.0\n",
       "Nama Bahan Pangan47         0.0\n",
       "Nama Bahan Pangan48         0.0\n",
       "Nama Bahan Pangan49         0.0\n",
       "Nama Bahan Pangan50         0.0\n",
       "Nama Bahan Pangan51         1.0\n",
       "Nama Bahan Pangan52         1.0\n",
       "Nama Bahan Pangan53         0.0\n",
       "Nama Bahan Pangan54         0.0\n",
       "Harga                  588500.0\n",
       "Name: 0, dtype: float64"
      ]
     },
     "execution_count": 1281,
     "metadata": {},
     "output_type": "execute_result"
    }
   ],
   "source": [
    "df3 = pd.read_csv('./hasilrevisi/percobaan12_0.csv')\n",
    "df3 = df3.drop(['Unnamed: 0'], 1)\n",
    "df3 = df3[df3['Harga']>0].tail().loc[0]\n",
    "df3"
   ]
  },
  {
   "cell_type": "code",
   "execution_count": 1282,
   "id": "177c6329-e344-4e76-b931-200eabe46597",
   "metadata": {},
   "outputs": [
    {
     "data": {
      "text/plain": [
       "Bahan Pangan     5\n",
       "Daging           3\n",
       "Rempah-Rempah    2\n",
       "Ikan             2\n",
       "Buah             2\n",
       "Name: Kategori, dtype: int64"
      ]
     },
     "execution_count": 1282,
     "metadata": {},
     "output_type": "execute_result"
    }
   ],
   "source": [
    "idx_d = df3.apply( lambda x: x==1)\n",
    "idx_d\n",
    "\n",
    "dfres = df[idx_d[:-1].values]\n",
    "dfres['Kategori'].value_counts()"
   ]
  },
  {
   "cell_type": "code",
   "execution_count": 1284,
   "id": "92c8b48b-4caf-4b4f-9591-7adc4650efad",
   "metadata": {},
   "outputs": [
    {
     "data": {
      "image/png": "[encoded data removed]",
      "text/plain": [
       "<Figure size 432x288 with 1 Axes>"
      ]
     },
     "metadata": {},
     "output_type": "display_data"
    }
   ],
   "source": [
    "labels = ['Bahan Pangan', 'Buah', 'Ikan', 'Daging', 'Rempah-Rempah', 'Sayur']\n",
    "percents = [5,2,2,3,2,0]\n",
    "\n",
    "explode = (0, 0, 0, 0, 0, 0)\n",
    "fig1, ax1 = plt.subplots()\n",
    "ax1.pie(percents, explode=explode, labels=labels, autopct='%1.1f%%', shadow=True, startangle=90)\n",
    "ax1.axis('equal')\n",
    "ax1.set_title('Percobaan 12', fontsize=14)\n",
    "plt.show()"
   ]
  },
  {
   "cell_type": "markdown",
   "id": "2d20c74f-f507-4a9c-ac87-eb902fc0fa1f",
   "metadata": {},
   "source": [
    "- Percobaan 13"
   ]
  },
  {
   "cell_type": "code",
   "execution_count": 1285,
   "id": "20e51eaf-9834-41eb-b623-5c5b6dc110a0",
   "metadata": {},
   "outputs": [
    {
     "name": "stderr",
     "output_type": "stream",
     "text": [
      "C:\\Users\\micha\\AppData\\Local\\Temp/ipykernel_30232/1964513203.py:2: FutureWarning: In a future version of pandas all arguments of DataFrame.drop except for the argument 'labels' will be keyword-only.\n",
      "  df3 = df3.drop(['Unnamed: 0'], 1)\n"
     ]
    },
    {
     "data": {
      "text/plain": [
       "Nama Bahan Pangan1          0.0\n",
       "Nama Bahan Pangan2          0.0\n",
       "Nama Bahan Pangan3          0.0\n",
       "Nama Bahan Pangan4          1.0\n",
       "Nama Bahan Pangan5          0.0\n",
       "Nama Bahan Pangan6          0.0\n",
       "Nama Bahan Pangan7          1.0\n",
       "Nama Bahan Pangan8          0.0\n",
       "Nama Bahan Pangan9          1.0\n",
       "Nama Bahan Pangan10         0.0\n",
       "Nama Bahan Pangan11         0.0\n",
       "Nama Bahan Pangan12         0.0\n",
       "Nama Bahan Pangan13         0.0\n",
       "Nama Bahan Pangan14         1.0\n",
       "Nama Bahan Pangan15         0.0\n",
       "Nama Bahan Pangan16         0.0\n",
       "Nama Bahan Pangan17         1.0\n",
       "Nama Bahan Pangan18         0.0\n",
       "Nama Bahan Pangan19         0.0\n",
       "Nama Bahan Pangan20         1.0\n",
       "Nama Bahan Pangan21         0.0\n",
       "Nama Bahan Pangan22         1.0\n",
       "Nama Bahan Pangan23         0.0\n",
       "Nama Bahan Pangan24         1.0\n",
       "Nama Bahan Pangan25         0.0\n",
       "Nama Bahan Pangan26         1.0\n",
       "Nama Bahan Pangan27         1.0\n",
       "Nama Bahan Pangan28         0.0\n",
       "Nama Bahan Pangan29         0.0\n",
       "Nama Bahan Pangan30         0.0\n",
       "Nama Bahan Pangan31         0.0\n",
       "Nama Bahan Pangan32         0.0\n",
       "Nama Bahan Pangan33         1.0\n",
       "Nama Bahan Pangan34         0.0\n",
       "Nama Bahan Pangan35         0.0\n",
       "Nama Bahan Pangan36         0.0\n",
       "Nama Bahan Pangan37         0.0\n",
       "Nama Bahan Pangan38         1.0\n",
       "Nama Bahan Pangan39         0.0\n",
       "Nama Bahan Pangan40         0.0\n",
       "Nama Bahan Pangan41         1.0\n",
       "Nama Bahan Pangan42         0.0\n",
       "Nama Bahan Pangan43         1.0\n",
       "Nama Bahan Pangan44         0.0\n",
       "Nama Bahan Pangan45         0.0\n",
       "Nama Bahan Pangan46         0.0\n",
       "Nama Bahan Pangan47         0.0\n",
       "Nama Bahan Pangan48         1.0\n",
       "Nama Bahan Pangan49         0.0\n",
       "Nama Bahan Pangan50         0.0\n",
       "Nama Bahan Pangan51         0.0\n",
       "Nama Bahan Pangan52         0.0\n",
       "Nama Bahan Pangan53         0.0\n",
       "Nama Bahan Pangan54         1.0\n",
       "Harga                  420100.0\n",
       "Name: 0, dtype: float64"
      ]
     },
     "execution_count": 1285,
     "metadata": {},
     "output_type": "execute_result"
    }
   ],
   "source": [
    "df3 = pd.read_csv('./hasilrevisi/percobaan13_1.csv')\n",
    "df3 = df3.drop(['Unnamed: 0'], 1)\n",
    "df3 = df3[df3['Harga']>0].tail().loc[0]\n",
    "df3"
   ]
  },
  {
   "cell_type": "code",
   "execution_count": 1286,
   "id": "18e1d4d4-0d62-462d-b229-86c06279c455",
   "metadata": {},
   "outputs": [
    {
     "data": {
      "text/plain": [
       "Bahan Pangan     5\n",
       "Daging           3\n",
       "Rempah-Rempah    3\n",
       "Ikan             2\n",
       "Buah             2\n",
       "Sayur            1\n",
       "Name: Kategori, dtype: int64"
      ]
     },
     "execution_count": 1286,
     "metadata": {},
     "output_type": "execute_result"
    }
   ],
   "source": [
    "idx_d = df3.apply( lambda x: x==1)\n",
    "idx_d\n",
    "\n",
    "dfres = df[idx_d[:-1].values]\n",
    "dfres['Kategori'].value_counts()"
   ]
  },
  {
   "cell_type": "code",
   "execution_count": 1288,
   "id": "b19812c1-506c-4d65-83f7-6bd1ba0a580d",
   "metadata": {},
   "outputs": [
    {
     "data": {
      "image/png": "[encoded data removed]",
      "text/plain": [
       "<Figure size 432x288 with 1 Axes>"
      ]
     },
     "metadata": {},
     "output_type": "display_data"
    }
   ],
   "source": [
    "labels = ['Bahan Pangan', 'Buah', 'Ikan', 'Daging', 'Rempah-Rempah', 'Sayur']\n",
    "percents = [5,2,2,3,3,1]\n",
    "\n",
    "explode = (0, 0, 0, 0, 0, 0)\n",
    "fig1, ax1 = plt.subplots()\n",
    "ax1.pie(percents, explode=explode, labels=labels, autopct='%1.1f%%', shadow=True, startangle=90)\n",
    "ax1.axis('equal')\n",
    "ax1.set_title('Percobaan 13', fontsize=14)\n",
    "plt.show()"
   ]
  },
  {
   "cell_type": "code",
   "execution_count": null,
   "id": "d61fdd6d-7a05-4386-a7af-d189d8e8b4b1",
   "metadata": {},
   "outputs": [],
   "source": []
  }
 ],
 "metadata": {
  "kernelspec": {
   "display_name": "Python 3 (ipykernel)",
   "language": "python",
   "name": "python3"
  },
  "language_info": {
   "codemirror_mode": {
    "name": "ipython",
    "version": 3
   },
   "file_extension": ".py",
   "mimetype": "text/x-python",
   "name": "python",
   "nbconvert_exporter": "python",
   "pygments_lexer": "ipython3",
   "version": "3.10.0"
  }
 },
 "nbformat": 4,
 "nbformat_minor": 5
}
